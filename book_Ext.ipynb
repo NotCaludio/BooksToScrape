{
  "cells": [
    {
      "cell_type": "code",
      "execution_count": null,
      "metadata": {
        "id": "H0s6fDH9_V_W"
      },
      "outputs": [],
      "source": [
        "!pip install selenium --quiet\n",
        "!apt-get update > /dev/null\n",
        "!apt install chromium-chromedriver --yes > /dev/null\n",
        "!cp /usr/lib/chromium-browser/chromedriver /usr/bin\n",
        "import sys\n",
        "sys.path.insert(0, '/usr/lib/chromium-browser/chromedriver')"
      ]
    },
    {
      "cell_type": "code",
      "execution_count": null,
      "metadata": {
        "id": "2YtTW3jr_ayg"
      },
      "outputs": [],
      "source": [
        "from selenium import webdriver\n",
        "from selenium.webdriver.chrome.service import Service\n",
        "from selenium.webdriver.common.by import By\n",
        "import pandas as pd\n",
        "import time\n",
        "from google.colab import files"
      ]
    },
    {
      "cell_type": "code",
      "execution_count": null,
      "metadata": {
        "id": "m-qvuT1L_bPf"
      },
      "outputs": [],
      "source": [
        "chrome_options = webdriver.ChromeOptions()\n",
        "chrome_options.add_argument(\"--window-size=2050,2050\")\n",
        "chrome_options.add_argument(\"--headless\") #no teclado, no mouse\n",
        "chrome_options.add_argument(\"--no-sandbox\") #no entorno de prueba\n",
        "chrome_options.add_argument(\"--disable-dev-shm-usage\") #se crea carpeta temporal\n",
        "\n",
        "driver = webdriver.Chrome(options=chrome_options)\n",
        "\n"
      ]
    },
    {
      "cell_type": "code",
      "execution_count": null,
      "metadata": {
        "id": "8OOWztB6_c-b"
      },
      "outputs": [],
      "source": [
        "url_travel = 'https://books.toscrape.com/catalogue/category/books_1/index.html'\n",
        "\n",
        "driver.get(url_travel)\n",
        "time.sleep(5)\n",
        "\n",
        "links = driver.find_elements(By.XPATH, '//ul/li/a')\n",
        "links = [link.get_attribute('href') for link in links]"
      ]
    },
    {
      "cell_type": "code",
      "execution_count": null,
      "metadata": {
        "id": "eVN_4Uj0A-hC"
      },
      "outputs": [],
      "source": [
        "links"
      ]
    },
    {
      "cell_type": "code",
      "execution_count": null,
      "metadata": {
        "id": "CeyHOgQQB0Ak"
      },
      "outputs": [],
      "source": [
        "links.pop()"
      ]
    },
    {
      "cell_type": "code",
      "execution_count": null,
      "metadata": {
        "id": "c2VrdAm4CFOq"
      },
      "outputs": [],
      "source": [
        "links.pop(1)\n",
        "links.pop(0)"
      ]
    },
    {
      "cell_type": "code",
      "execution_count": null,
      "metadata": {
        "id": "YlE9bC1xCST3"
      },
      "outputs": [],
      "source": [
        "len(links)"
      ]
    },
    {
      "cell_type": "code",
      "execution_count": null,
      "metadata": {
        "id": "-o95S4E6DcXG"
      },
      "outputs": [],
      "source": [
        "links"
      ]
    },
    {
      "cell_type": "code",
      "execution_count": null,
      "metadata": {
        "colab": {
          "background_save": true,
          "base_uri": "https://localhost:8080/"
        },
        "id": "14y1G7L5Jmza",
        "outputId": "f75adb9a-32d7-4c0b-fa8b-ae10e1330ed1"
      },
      "outputs": [
        {
          "name": "stdout",
          "output_type": "stream",
          "text": [
            "https://books.toscrape.com/catalogue/category/books/travel_2/index.html\n",
            "https://books.toscrape.com/catalogue/category/books/mystery_3/index.html\n",
            "https://books.toscrape.com/catalogue/category/books/historical-fiction_4/index.html\n",
            "https://books.toscrape.com/catalogue/category/books/sequential-art_5/index.html\n",
            "https://books.toscrape.com/catalogue/category/books/classics_6/index.html\n",
            "https://books.toscrape.com/catalogue/category/books/philosophy_7/index.html\n",
            "https://books.toscrape.com/catalogue/category/books/romance_8/index.html\n",
            "https://books.toscrape.com/catalogue/category/books/womens-fiction_9/index.html\n",
            "https://books.toscrape.com/catalogue/category/books/fiction_10/index.html\n",
            "https://books.toscrape.com/catalogue/category/books/childrens_11/index.html\n",
            "https://books.toscrape.com/catalogue/category/books/religion_12/index.html\n",
            "https://books.toscrape.com/catalogue/category/books/nonfiction_13/index.html\n",
            "https://books.toscrape.com/catalogue/category/books/music_14/index.html\n",
            "https://books.toscrape.com/catalogue/category/books/default_15/index.html\n",
            "https://books.toscrape.com/catalogue/category/books/science-fiction_16/index.html\n",
            "https://books.toscrape.com/catalogue/category/books/sports-and-games_17/index.html\n",
            "https://books.toscrape.com/catalogue/category/books/add-a-comment_18/index.html\n",
            "https://books.toscrape.com/catalogue/category/books/fantasy_19/index.html\n",
            "https://books.toscrape.com/catalogue/category/books/new-adult_20/index.html\n",
            "https://books.toscrape.com/catalogue/category/books/young-adult_21/index.html\n",
            "https://books.toscrape.com/catalogue/category/books/science_22/index.html\n",
            "https://books.toscrape.com/catalogue/category/books/poetry_23/index.html\n",
            "https://books.toscrape.com/catalogue/category/books/paranormal_24/index.html\n",
            "https://books.toscrape.com/catalogue/category/books/art_25/index.html\n",
            "https://books.toscrape.com/catalogue/category/books/psychology_26/index.html\n",
            "https://books.toscrape.com/catalogue/category/books/autobiography_27/index.html\n",
            "https://books.toscrape.com/catalogue/category/books/parenting_28/index.html\n",
            "https://books.toscrape.com/catalogue/category/books/adult-fiction_29/index.html\n",
            "https://books.toscrape.com/catalogue/category/books/humor_30/index.html\n",
            "https://books.toscrape.com/catalogue/category/books/horror_31/index.html\n",
            "https://books.toscrape.com/catalogue/category/books/history_32/index.html\n",
            "https://books.toscrape.com/catalogue/category/books/food-and-drink_33/index.html\n",
            "https://books.toscrape.com/catalogue/category/books/christian-fiction_34/index.html\n",
            "https://books.toscrape.com/catalogue/category/books/business_35/index.html\n",
            "https://books.toscrape.com/catalogue/category/books/biography_36/index.html\n",
            "https://books.toscrape.com/catalogue/category/books/thriller_37/index.html\n",
            "https://books.toscrape.com/catalogue/category/books/contemporary_38/index.html\n",
            "https://books.toscrape.com/catalogue/category/books/spirituality_39/index.html\n",
            "https://books.toscrape.com/catalogue/category/books/academic_40/index.html\n",
            "https://books.toscrape.com/catalogue/category/books/self-help_41/index.html\n",
            "https://books.toscrape.com/catalogue/category/books/historical_42/index.html\n",
            "https://books.toscrape.com/catalogue/category/books/christian_43/index.html\n",
            "https://books.toscrape.com/catalogue/category/books/suspense_44/index.html\n",
            "https://books.toscrape.com/catalogue/category/books/short-stories_45/index.html\n",
            "https://books.toscrape.com/catalogue/category/books/novels_46/index.html\n",
            "https://books.toscrape.com/catalogue/category/books/health_47/index.html\n",
            "https://books.toscrape.com/catalogue/category/books/politics_48/index.html\n",
            "https://books.toscrape.com/catalogue/category/books/cultural_49/index.html\n",
            "https://books.toscrape.com/catalogue/category/books/erotica_50/index.html\n",
            "https://books.toscrape.com/catalogue/category/books/crime_51/index.html\n"
          ]
        }
      ],
      "source": [
        "page_links = []\n",
        "\n",
        "for link in links:\n",
        "  print(link)\n",
        "  driver.get(link)\n",
        "\n",
        "  while True:\n",
        "    try:\n",
        "      next_button = driver.find_element(By.CSS_SELECTOR, 'li.next > a')\n",
        "      next_button.click()\n",
        "      time.sleep(5)\n",
        "\n",
        "      page_links.append(driver.current_url)\n",
        "\n",
        "    except:\n",
        "      break\n",
        "\n",
        "links.extend(page_links)\n",
        "\n",
        "\n"
      ]
    },
    {
      "cell_type": "code",
      "execution_count": null,
      "metadata": {
        "colab": {
          "background_save": true,
          "base_uri": "https://localhost:8080/"
        },
        "id": "tWYnpHq0Qt0P",
        "outputId": "a38c806b-1317-445f-b638-10c0a6014ede"
      },
      "outputs": [
        {
          "data": {
            "text/plain": [
              "['https://books.toscrape.com/catalogue/category/books/travel_2/index.html',\n",
              " 'https://books.toscrape.com/catalogue/category/books/mystery_3/index.html',\n",
              " 'https://books.toscrape.com/catalogue/category/books/historical-fiction_4/index.html',\n",
              " 'https://books.toscrape.com/catalogue/category/books/sequential-art_5/index.html',\n",
              " 'https://books.toscrape.com/catalogue/category/books/classics_6/index.html',\n",
              " 'https://books.toscrape.com/catalogue/category/books/philosophy_7/index.html',\n",
              " 'https://books.toscrape.com/catalogue/category/books/romance_8/index.html',\n",
              " 'https://books.toscrape.com/catalogue/category/books/womens-fiction_9/index.html',\n",
              " 'https://books.toscrape.com/catalogue/category/books/fiction_10/index.html',\n",
              " 'https://books.toscrape.com/catalogue/category/books/childrens_11/index.html',\n",
              " 'https://books.toscrape.com/catalogue/category/books/religion_12/index.html',\n",
              " 'https://books.toscrape.com/catalogue/category/books/nonfiction_13/index.html',\n",
              " 'https://books.toscrape.com/catalogue/category/books/music_14/index.html',\n",
              " 'https://books.toscrape.com/catalogue/category/books/default_15/index.html',\n",
              " 'https://books.toscrape.com/catalogue/category/books/science-fiction_16/index.html',\n",
              " 'https://books.toscrape.com/catalogue/category/books/sports-and-games_17/index.html',\n",
              " 'https://books.toscrape.com/catalogue/category/books/add-a-comment_18/index.html',\n",
              " 'https://books.toscrape.com/catalogue/category/books/fantasy_19/index.html',\n",
              " 'https://books.toscrape.com/catalogue/category/books/new-adult_20/index.html',\n",
              " 'https://books.toscrape.com/catalogue/category/books/young-adult_21/index.html',\n",
              " 'https://books.toscrape.com/catalogue/category/books/science_22/index.html',\n",
              " 'https://books.toscrape.com/catalogue/category/books/poetry_23/index.html',\n",
              " 'https://books.toscrape.com/catalogue/category/books/paranormal_24/index.html',\n",
              " 'https://books.toscrape.com/catalogue/category/books/art_25/index.html',\n",
              " 'https://books.toscrape.com/catalogue/category/books/psychology_26/index.html',\n",
              " 'https://books.toscrape.com/catalogue/category/books/autobiography_27/index.html',\n",
              " 'https://books.toscrape.com/catalogue/category/books/parenting_28/index.html',\n",
              " 'https://books.toscrape.com/catalogue/category/books/adult-fiction_29/index.html',\n",
              " 'https://books.toscrape.com/catalogue/category/books/humor_30/index.html',\n",
              " 'https://books.toscrape.com/catalogue/category/books/horror_31/index.html',\n",
              " 'https://books.toscrape.com/catalogue/category/books/history_32/index.html',\n",
              " 'https://books.toscrape.com/catalogue/category/books/food-and-drink_33/index.html',\n",
              " 'https://books.toscrape.com/catalogue/category/books/christian-fiction_34/index.html',\n",
              " 'https://books.toscrape.com/catalogue/category/books/business_35/index.html',\n",
              " 'https://books.toscrape.com/catalogue/category/books/biography_36/index.html',\n",
              " 'https://books.toscrape.com/catalogue/category/books/thriller_37/index.html',\n",
              " 'https://books.toscrape.com/catalogue/category/books/contemporary_38/index.html',\n",
              " 'https://books.toscrape.com/catalogue/category/books/spirituality_39/index.html',\n",
              " 'https://books.toscrape.com/catalogue/category/books/academic_40/index.html',\n",
              " 'https://books.toscrape.com/catalogue/category/books/self-help_41/index.html',\n",
              " 'https://books.toscrape.com/catalogue/category/books/historical_42/index.html',\n",
              " 'https://books.toscrape.com/catalogue/category/books/christian_43/index.html',\n",
              " 'https://books.toscrape.com/catalogue/category/books/suspense_44/index.html',\n",
              " 'https://books.toscrape.com/catalogue/category/books/short-stories_45/index.html',\n",
              " 'https://books.toscrape.com/catalogue/category/books/novels_46/index.html',\n",
              " 'https://books.toscrape.com/catalogue/category/books/health_47/index.html',\n",
              " 'https://books.toscrape.com/catalogue/category/books/politics_48/index.html',\n",
              " 'https://books.toscrape.com/catalogue/category/books/cultural_49/index.html',\n",
              " 'https://books.toscrape.com/catalogue/category/books/erotica_50/index.html',\n",
              " 'https://books.toscrape.com/catalogue/category/books/crime_51/index.html',\n",
              " 'https://books.toscrape.com/catalogue/category/books/mystery_3/page-2.html',\n",
              " 'https://books.toscrape.com/catalogue/category/books/historical-fiction_4/page-2.html',\n",
              " 'https://books.toscrape.com/catalogue/category/books/sequential-art_5/page-2.html',\n",
              " 'https://books.toscrape.com/catalogue/category/books/sequential-art_5/page-3.html',\n",
              " 'https://books.toscrape.com/catalogue/category/books/sequential-art_5/page-4.html',\n",
              " 'https://books.toscrape.com/catalogue/category/books/romance_8/page-2.html',\n",
              " 'https://books.toscrape.com/catalogue/category/books/fiction_10/page-2.html',\n",
              " 'https://books.toscrape.com/catalogue/category/books/fiction_10/page-3.html',\n",
              " 'https://books.toscrape.com/catalogue/category/books/fiction_10/page-4.html',\n",
              " 'https://books.toscrape.com/catalogue/category/books/childrens_11/page-2.html',\n",
              " 'https://books.toscrape.com/catalogue/category/books/nonfiction_13/page-2.html',\n",
              " 'https://books.toscrape.com/catalogue/category/books/nonfiction_13/page-3.html',\n",
              " 'https://books.toscrape.com/catalogue/category/books/nonfiction_13/page-4.html',\n",
              " 'https://books.toscrape.com/catalogue/category/books/nonfiction_13/page-5.html',\n",
              " 'https://books.toscrape.com/catalogue/category/books/nonfiction_13/page-6.html',\n",
              " 'https://books.toscrape.com/catalogue/category/books/default_15/page-2.html',\n",
              " 'https://books.toscrape.com/catalogue/category/books/default_15/page-3.html',\n",
              " 'https://books.toscrape.com/catalogue/category/books/default_15/page-4.html',\n",
              " 'https://books.toscrape.com/catalogue/category/books/default_15/page-5.html',\n",
              " 'https://books.toscrape.com/catalogue/category/books/default_15/page-6.html',\n",
              " 'https://books.toscrape.com/catalogue/category/books/default_15/page-7.html',\n",
              " 'https://books.toscrape.com/catalogue/category/books/default_15/page-8.html',\n",
              " 'https://books.toscrape.com/catalogue/category/books/add-a-comment_18/page-2.html',\n",
              " 'https://books.toscrape.com/catalogue/category/books/add-a-comment_18/page-3.html',\n",
              " 'https://books.toscrape.com/catalogue/category/books/add-a-comment_18/page-4.html',\n",
              " 'https://books.toscrape.com/catalogue/category/books/fantasy_19/page-2.html',\n",
              " 'https://books.toscrape.com/catalogue/category/books/fantasy_19/page-3.html',\n",
              " 'https://books.toscrape.com/catalogue/category/books/young-adult_21/page-2.html',\n",
              " 'https://books.toscrape.com/catalogue/category/books/young-adult_21/page-3.html',\n",
              " 'https://books.toscrape.com/catalogue/category/books/food-and-drink_33/page-2.html']"
            ]
          },
          "execution_count": 38,
          "metadata": {},
          "output_type": "execute_result"
        }
      ],
      "source": [
        "links"
      ]
    },
    {
      "cell_type": "code",
      "execution_count": null,
      "metadata": {
        "colab": {
          "base_uri": "https://localhost:8080/"
        },
        "id": "HplVocJHQzBj",
        "outputId": "60bffd99-e449-4e2a-9109-5e4705f1020f"
      },
      "outputs": [
        {
          "name": "stdout",
          "output_type": "stream",
          "text": [
            "https://books.toscrape.com/catalogue/category/books/travel_2/index.html\n"
          ]
        }
      ],
      "source": [
        "books = []\n",
        "for link in links:\n",
        "  print(link)\n",
        "  driver.get(link)\n",
        "  time.sleep(5)\n",
        "  book = driver.find_elements(By.XPATH, '//h3/a')\n",
        "  book = [b.get_attribute('href') for b in book]\n",
        "  books.extend(book)\n"
      ]
    },
    {
      "cell_type": "code",
      "execution_count": null,
      "metadata": {
        "id": "oKFE2MUmSa4N"
      },
      "outputs": [],
      "source": [
        "len(books)"
      ]
    },
    {
      "cell_type": "code",
      "execution_count": null,
      "metadata": {
        "id": "9BEkNADCTsn2"
      },
      "outputs": [],
      "source": [
        "books_info = []\n",
        "\n",
        "for book in books:\n",
        "  print(book)\n",
        "  driver.get(book)\n",
        "  time.sleep(5)\n",
        "  title = driver.find_element(By.CSS_SELECTOR, 'h1').text\n",
        "\n",
        "  try:\n",
        "    description_header = driver.find_element(By.ID, 'product_description')\n",
        "    description = description_header.find_element(By.XPATH, 'following-sibling::p')\n",
        "    description = description.text\n",
        "  except:\n",
        "    description = ''\n",
        "\n",
        "  category = driver.find_element(By.XPATH, '//ul/li[3]/a').text\n",
        "\n",
        "  UPC = driver.find_element(By.XPATH, '//table/tbody/tr[1]/td').text\n",
        "  product_type = driver.find_element(By.XPATH, '//table/tbody/tr[2]/td').text\n",
        "  price_incl_tax = driver.find_element(By.XPATH, '//table/tbody/tr[4]/td').text\n",
        "  price_excl_tax = driver.find_element(By.XPATH, '//table/tbody/tr[3]/td').text\n",
        "  tax = driver.find_element(By.XPATH, '//table/tbody/tr[5]/td').text\n",
        "  availability = driver.find_element(By.XPATH, '//table/tbody/tr[6]/td').text\n",
        "  n_reviews = driver.find_element(By.XPATH, '//table/tbody/tr[7]/td').text\n",
        "  rating = driver.find_element(By.XPATH, '//p[3]').get_attribute('class')\n",
        "  image_url = driver.find_element(By.XPATH, '//div/img').get_attribute('src')\n",
        "\n",
        "\n",
        "  books_info.append({\n",
        "      'title': title,\n",
        "      'product_type': product_type,\n",
        "      'description': description,\n",
        "      'category': category,\n",
        "      'UPC': UPC,\n",
        "      'price_incl_tax': price_incl_tax,\n",
        "      'price_excl_tax': price_excl_tax,\n",
        "      'tax': tax,\n",
        "      'availability': availability,\n",
        "      'n_reviews': n_reviews,\n",
        "      'rating': rating,\n",
        "      'image_url': image_url\n",
        "  })\n",
        "\n",
        "\n",
        "\n",
        "\n",
        "\n"
      ]
    },
    {
      "cell_type": "code",
      "execution_count": null,
      "metadata": {
        "id": "UTEPLkeHPAk5"
      },
      "outputs": [],
      "source": [
        "df = pd.DataFrame(books_info)"
      ]
    }
  ],
  "metadata": {
    "colab": {
      "provenance": []
    },
    "kernelspec": {
      "display_name": "Python 3",
      "name": "python3"
    },
    "language_info": {
      "name": "python"
    }
  },
  "nbformat": 4,
  "nbformat_minor": 0
}