{
  "cells": [
    {
      "cell_type": "code",
      "execution_count": null,
      "metadata": {
        "id": "KdeTpqbYpABG"
      },
      "outputs": [],
      "source": [
        "import pandas as pd\n",
        "import numpy as np\n",
        "import matplotlib.pyplot as plt\n",
        "import seaborn as sns\n",
        "from google.colab import files"
      ]
    },
    {
      "cell_type": "code",
      "execution_count": null,
      "metadata": {
        "colab": {
          "base_uri": "https://localhost:8080/"
        },
        "id": "XsntzE4L_nzK",
        "outputId": "5c37959d-4d62-4ac2-a244-9a2844d6ffb3"
      },
      "outputs": [
        {
          "name": "stdout",
          "output_type": "stream",
          "text": [
            "Drive already mounted at /content/drive; to attempt to forcibly remount, call drive.mount(\"/content/drive\", force_remount=True).\n"
          ]
        }
      ],
      "source": [
        "from google.colab import drive\n",
        "drive.mount('/content/drive')"
      ]
    },
    {
      "cell_type": "code",
      "execution_count": null,
      "metadata": {
        "colab": {
          "base_uri": "https://localhost:8080/",
          "height": 547
        },
        "id": "uexFEm01pQ3-",
        "outputId": "7bae9ac2-6d05-4bc5-a588-d627416dc130"
      },
      "outputs": [
        {
          "data": {
            "application/vnd.google.colaboratory.intrinsic+json": {
              "summary": "{\n  \"name\": \"df\",\n  \"rows\": 1000,\n  \"fields\": [\n    {\n      \"column\": \"title\",\n      \"properties\": {\n        \"dtype\": \"string\",\n        \"num_unique_values\": 999,\n        \"samples\": [\n          \"Counted With the Stars (Out from Egypt #1)\",\n          \"The New Brand You: Your New Image Makes the Sale for You\",\n          \"Please Kill Me: The Uncensored Oral History of Punk\"\n        ],\n        \"semantic_type\": \"\",\n        \"description\": \"\"\n      }\n    },\n    {\n      \"column\": \"product_type\",\n      \"properties\": {\n        \"dtype\": \"category\",\n        \"num_unique_values\": 1,\n        \"samples\": [\n          \"Books\"\n        ],\n        \"semantic_type\": \"\",\n        \"description\": \"\"\n      }\n    },\n    {\n      \"column\": \"description\",\n      \"properties\": {\n        \"dtype\": \"string\",\n        \"num_unique_values\": 998,\n        \"samples\": [\n          \"Casey knows the truth.But it won\\u2019t set her free.Casey Cox\\u2019s DNA is all over the crime scene. There\\u2019s no use talking to police; they have failed her abysmally before. She has to flee before she\\u2019s arrested . . . or worse. The truth doesn\\u2019t matter anymore.But what is the truth? That\\u2019s the question haunting Dylan Roberts, the war-weary veteran hired to find Casey. PTSD has mar Casey knows the truth.But it won\\u2019t set her free.Casey Cox\\u2019s DNA is all over the crime scene. There\\u2019s no use talking to police; they have failed her abysmally before. She has to flee before she\\u2019s arrested . . . or worse. The truth doesn\\u2019t matter anymore.But what is the truth? That\\u2019s the question haunting Dylan Roberts, the war-weary veteran hired to find Casey. PTSD has marked him damaged goods, but bringing Casey back can redeem him. Though the crime scene seems to tell the whole story, details of the murder aren\\u2019t adding up. Casey Cox doesn\\u2019t fit the profile of a killer. But are Dylan\\u2019s skewed perceptions keeping him from being objective? If she isn\\u2019t guilty, why did she run?Unraveling her past and the evidence that condemns her will take more time than he has, but as Dylan\\u2019s damaged soul intersects with hers, he is faced with two choices. The girl who occupies his every thought is a psychopathic killer . . . or a selfless hero. And the truth could be the most deadly weapon yet. ...more\"\n        ],\n        \"semantic_type\": \"\",\n        \"description\": \"\"\n      }\n    },\n    {\n      \"column\": \"category\",\n      \"properties\": {\n        \"dtype\": \"category\",\n        \"num_unique_values\": 50,\n        \"samples\": [\n          \"Default\"\n        ],\n        \"semantic_type\": \"\",\n        \"description\": \"\"\n      }\n    },\n    {\n      \"column\": \"UPC\",\n      \"properties\": {\n        \"dtype\": \"string\",\n        \"num_unique_values\": 1000,\n        \"samples\": [\n          \"1be6d3b121865edb\"\n        ],\n        \"semantic_type\": \"\",\n        \"description\": \"\"\n      }\n    },\n    {\n      \"column\": \"price_incl_tax\",\n      \"properties\": {\n        \"dtype\": \"string\",\n        \"num_unique_values\": 903,\n        \"samples\": [\n          \"\\u00a317.08\"\n        ],\n        \"semantic_type\": \"\",\n        \"description\": \"\"\n      }\n    },\n    {\n      \"column\": \"price_excl_tax\",\n      \"properties\": {\n        \"dtype\": \"string\",\n        \"num_unique_values\": 903,\n        \"samples\": [\n          \"\\u00a317.08\"\n        ],\n        \"semantic_type\": \"\",\n        \"description\": \"\"\n      }\n    },\n    {\n      \"column\": \"tax\",\n      \"properties\": {\n        \"dtype\": \"category\",\n        \"num_unique_values\": 1,\n        \"samples\": [\n          \"\\u00a30.00\"\n        ],\n        \"semantic_type\": \"\",\n        \"description\": \"\"\n      }\n    },\n    {\n      \"column\": \"availability\",\n      \"properties\": {\n        \"dtype\": \"category\",\n        \"num_unique_values\": 21,\n        \"samples\": [\n          \"In stock (19 available)\"\n        ],\n        \"semantic_type\": \"\",\n        \"description\": \"\"\n      }\n    },\n    {\n      \"column\": \"n_reviews\",\n      \"properties\": {\n        \"dtype\": \"number\",\n        \"std\": 0,\n        \"min\": 0,\n        \"max\": 0,\n        \"num_unique_values\": 1,\n        \"samples\": [\n          0\n        ],\n        \"semantic_type\": \"\",\n        \"description\": \"\"\n      }\n    },\n    {\n      \"column\": \"rating\",\n      \"properties\": {\n        \"dtype\": \"category\",\n        \"num_unique_values\": 5,\n        \"samples\": [\n          \"star-rating Four\"\n        ],\n        \"semantic_type\": \"\",\n        \"description\": \"\"\n      }\n    },\n    {\n      \"column\": \"image_url\",\n      \"properties\": {\n        \"dtype\": \"string\",\n        \"num_unique_values\": 1000,\n        \"samples\": [\n          \"https://books.toscrape.com/media/cache/72/ec/72ec24f082aba608ca37bc3aeaf57317.jpg\"\n        ],\n        \"semantic_type\": \"\",\n        \"description\": \"\"\n      }\n    }\n  ]\n}",
              "type": "dataframe",
              "variable_name": "df"
            },
            "text/html": [
              "\n",
              "  <div id=\"df-d7af8f10-e0e9-4aa3-95fb-13e82f389752\" class=\"colab-df-container\">\n",
              "    <div>\n",
              "<style scoped>\n",
              "    .dataframe tbody tr th:only-of-type {\n",
              "        vertical-align: middle;\n",
              "    }\n",
              "\n",
              "    .dataframe tbody tr th {\n",
              "        vertical-align: top;\n",
              "    }\n",
              "\n",
              "    .dataframe thead th {\n",
              "        text-align: right;\n",
              "    }\n",
              "</style>\n",
              "<table border=\"1\" class=\"dataframe\">\n",
              "  <thead>\n",
              "    <tr style=\"text-align: right;\">\n",
              "      <th></th>\n",
              "      <th>title</th>\n",
              "      <th>product_type</th>\n",
              "      <th>description</th>\n",
              "      <th>category</th>\n",
              "      <th>UPC</th>\n",
              "      <th>price_incl_tax</th>\n",
              "      <th>price_excl_tax</th>\n",
              "      <th>tax</th>\n",
              "      <th>availability</th>\n",
              "      <th>n_reviews</th>\n",
              "      <th>rating</th>\n",
              "      <th>image_url</th>\n",
              "    </tr>\n",
              "  </thead>\n",
              "  <tbody>\n",
              "    <tr>\n",
              "      <th>0</th>\n",
              "      <td>It's Only the Himalayas</td>\n",
              "      <td>Books</td>\n",
              "      <td>“Wherever you go, whatever you do, just . . . ...</td>\n",
              "      <td>Travel</td>\n",
              "      <td>a22124811bfa8350</td>\n",
              "      <td>£45.17</td>\n",
              "      <td>£45.17</td>\n",
              "      <td>£0.00</td>\n",
              "      <td>In stock (19 available)</td>\n",
              "      <td>0</td>\n",
              "      <td>star-rating Two</td>\n",
              "      <td>https://books.toscrape.com/media/cache/6d/41/6...</td>\n",
              "    </tr>\n",
              "    <tr>\n",
              "      <th>1</th>\n",
              "      <td>Full Moon over Noah’s Ark: An Odyssey to Mount...</td>\n",
              "      <td>Books</td>\n",
              "      <td>Acclaimed travel writer Rick Antonson sets his...</td>\n",
              "      <td>Travel</td>\n",
              "      <td>ce60436f52c5ee68</td>\n",
              "      <td>£49.43</td>\n",
              "      <td>£49.43</td>\n",
              "      <td>£0.00</td>\n",
              "      <td>In stock (15 available)</td>\n",
              "      <td>0</td>\n",
              "      <td>star-rating Four</td>\n",
              "      <td>https://books.toscrape.com/media/cache/fe/8a/f...</td>\n",
              "    </tr>\n",
              "    <tr>\n",
              "      <th>2</th>\n",
              "      <td>See America: A Celebration of Our National Par...</td>\n",
              "      <td>Books</td>\n",
              "      <td>To coincide with the 2016 centennial anniversa...</td>\n",
              "      <td>Travel</td>\n",
              "      <td>f9705c362f070608</td>\n",
              "      <td>£48.87</td>\n",
              "      <td>£48.87</td>\n",
              "      <td>£0.00</td>\n",
              "      <td>In stock (14 available)</td>\n",
              "      <td>0</td>\n",
              "      <td>star-rating Three</td>\n",
              "      <td>https://books.toscrape.com/media/cache/c7/1a/c...</td>\n",
              "    </tr>\n",
              "    <tr>\n",
              "      <th>3</th>\n",
              "      <td>Vagabonding: An Uncommon Guide to the Art of L...</td>\n",
              "      <td>Books</td>\n",
              "      <td>With a new foreword by Tim Ferriss •There’s no...</td>\n",
              "      <td>Travel</td>\n",
              "      <td>1809259a5a5f1d8d</td>\n",
              "      <td>£36.94</td>\n",
              "      <td>£36.94</td>\n",
              "      <td>£0.00</td>\n",
              "      <td>In stock (8 available)</td>\n",
              "      <td>0</td>\n",
              "      <td>star-rating Two</td>\n",
              "      <td>https://books.toscrape.com/media/cache/ca/30/c...</td>\n",
              "    </tr>\n",
              "    <tr>\n",
              "      <th>4</th>\n",
              "      <td>Under the Tuscan Sun</td>\n",
              "      <td>Books</td>\n",
              "      <td>A CLASSIC FROM THE BESTSELLING AUTHOR OF UNDER...</td>\n",
              "      <td>Travel</td>\n",
              "      <td>a94350ee74deaa07</td>\n",
              "      <td>£37.33</td>\n",
              "      <td>£37.33</td>\n",
              "      <td>£0.00</td>\n",
              "      <td>In stock (7 available)</td>\n",
              "      <td>0</td>\n",
              "      <td>star-rating Three</td>\n",
              "      <td>https://books.toscrape.com/media/cache/45/21/4...</td>\n",
              "    </tr>\n",
              "  </tbody>\n",
              "</table>\n",
              "</div>\n",
              "    <div class=\"colab-df-buttons\">\n",
              "\n",
              "  <div class=\"colab-df-container\">\n",
              "    <button class=\"colab-df-convert\" onclick=\"convertToInteractive('df-d7af8f10-e0e9-4aa3-95fb-13e82f389752')\"\n",
              "            title=\"Convert this dataframe to an interactive table.\"\n",
              "            style=\"display:none;\">\n",
              "\n",
              "  <svg xmlns=\"http://www.w3.org/2000/svg\" height=\"24px\" viewBox=\"0 -960 960 960\">\n",
              "    <path d=\"M120-120v-720h720v720H120Zm60-500h600v-160H180v160Zm220 220h160v-160H400v160Zm0 220h160v-160H400v160ZM180-400h160v-160H180v160Zm440 0h160v-160H620v160ZM180-180h160v-160H180v160Zm440 0h160v-160H620v160Z\"/>\n",
              "  </svg>\n",
              "    </button>\n",
              "\n",
              "  <style>\n",
              "    .colab-df-container {\n",
              "      display:flex;\n",
              "      gap: 12px;\n",
              "    }\n",
              "\n",
              "    .colab-df-convert {\n",
              "      background-color: #E8F0FE;\n",
              "      border: none;\n",
              "      border-radius: 50%;\n",
              "      cursor: pointer;\n",
              "      display: none;\n",
              "      fill: #1967D2;\n",
              "      height: 32px;\n",
              "      padding: 0 0 0 0;\n",
              "      width: 32px;\n",
              "    }\n",
              "\n",
              "    .colab-df-convert:hover {\n",
              "      background-color: #E2EBFA;\n",
              "      box-shadow: 0px 1px 2px rgba(60, 64, 67, 0.3), 0px 1px 3px 1px rgba(60, 64, 67, 0.15);\n",
              "      fill: #174EA6;\n",
              "    }\n",
              "\n",
              "    .colab-df-buttons div {\n",
              "      margin-bottom: 4px;\n",
              "    }\n",
              "\n",
              "    [theme=dark] .colab-df-convert {\n",
              "      background-color: #3B4455;\n",
              "      fill: #D2E3FC;\n",
              "    }\n",
              "\n",
              "    [theme=dark] .colab-df-convert:hover {\n",
              "      background-color: #434B5C;\n",
              "      box-shadow: 0px 1px 3px 1px rgba(0, 0, 0, 0.15);\n",
              "      filter: drop-shadow(0px 1px 2px rgba(0, 0, 0, 0.3));\n",
              "      fill: #FFFFFF;\n",
              "    }\n",
              "  </style>\n",
              "\n",
              "    <script>\n",
              "      const buttonEl =\n",
              "        document.querySelector('#df-d7af8f10-e0e9-4aa3-95fb-13e82f389752 button.colab-df-convert');\n",
              "      buttonEl.style.display =\n",
              "        google.colab.kernel.accessAllowed ? 'block' : 'none';\n",
              "\n",
              "      async function convertToInteractive(key) {\n",
              "        const element = document.querySelector('#df-d7af8f10-e0e9-4aa3-95fb-13e82f389752');\n",
              "        const dataTable =\n",
              "          await google.colab.kernel.invokeFunction('convertToInteractive',\n",
              "                                                    [key], {});\n",
              "        if (!dataTable) return;\n",
              "\n",
              "        const docLinkHtml = 'Like what you see? Visit the ' +\n",
              "          '<a target=\"_blank\" href=https://colab.research.google.com/notebooks/data_table.ipynb>data table notebook</a>'\n",
              "          + ' to learn more about interactive tables.';\n",
              "        element.innerHTML = '';\n",
              "        dataTable['output_type'] = 'display_data';\n",
              "        await google.colab.output.renderOutput(dataTable, element);\n",
              "        const docLink = document.createElement('div');\n",
              "        docLink.innerHTML = docLinkHtml;\n",
              "        element.appendChild(docLink);\n",
              "      }\n",
              "    </script>\n",
              "  </div>\n",
              "\n",
              "\n",
              "    <div id=\"df-9344d89b-cb43-48aa-b891-d3887519fea8\">\n",
              "      <button class=\"colab-df-quickchart\" onclick=\"quickchart('df-9344d89b-cb43-48aa-b891-d3887519fea8')\"\n",
              "                title=\"Suggest charts\"\n",
              "                style=\"display:none;\">\n",
              "\n",
              "<svg xmlns=\"http://www.w3.org/2000/svg\" height=\"24px\"viewBox=\"0 0 24 24\"\n",
              "     width=\"24px\">\n",
              "    <g>\n",
              "        <path d=\"M19 3H5c-1.1 0-2 .9-2 2v14c0 1.1.9 2 2 2h14c1.1 0 2-.9 2-2V5c0-1.1-.9-2-2-2zM9 17H7v-7h2v7zm4 0h-2V7h2v10zm4 0h-2v-4h2v4z\"/>\n",
              "    </g>\n",
              "</svg>\n",
              "      </button>\n",
              "\n",
              "<style>\n",
              "  .colab-df-quickchart {\n",
              "      --bg-color: #E8F0FE;\n",
              "      --fill-color: #1967D2;\n",
              "      --hover-bg-color: #E2EBFA;\n",
              "      --hover-fill-color: #174EA6;\n",
              "      --disabled-fill-color: #AAA;\n",
              "      --disabled-bg-color: #DDD;\n",
              "  }\n",
              "\n",
              "  [theme=dark] .colab-df-quickchart {\n",
              "      --bg-color: #3B4455;\n",
              "      --fill-color: #D2E3FC;\n",
              "      --hover-bg-color: #434B5C;\n",
              "      --hover-fill-color: #FFFFFF;\n",
              "      --disabled-bg-color: #3B4455;\n",
              "      --disabled-fill-color: #666;\n",
              "  }\n",
              "\n",
              "  .colab-df-quickchart {\n",
              "    background-color: var(--bg-color);\n",
              "    border: none;\n",
              "    border-radius: 50%;\n",
              "    cursor: pointer;\n",
              "    display: none;\n",
              "    fill: var(--fill-color);\n",
              "    height: 32px;\n",
              "    padding: 0;\n",
              "    width: 32px;\n",
              "  }\n",
              "\n",
              "  .colab-df-quickchart:hover {\n",
              "    background-color: var(--hover-bg-color);\n",
              "    box-shadow: 0 1px 2px rgba(60, 64, 67, 0.3), 0 1px 3px 1px rgba(60, 64, 67, 0.15);\n",
              "    fill: var(--button-hover-fill-color);\n",
              "  }\n",
              "\n",
              "  .colab-df-quickchart-complete:disabled,\n",
              "  .colab-df-quickchart-complete:disabled:hover {\n",
              "    background-color: var(--disabled-bg-color);\n",
              "    fill: var(--disabled-fill-color);\n",
              "    box-shadow: none;\n",
              "  }\n",
              "\n",
              "  .colab-df-spinner {\n",
              "    border: 2px solid var(--fill-color);\n",
              "    border-color: transparent;\n",
              "    border-bottom-color: var(--fill-color);\n",
              "    animation:\n",
              "      spin 1s steps(1) infinite;\n",
              "  }\n",
              "\n",
              "  @keyframes spin {\n",
              "    0% {\n",
              "      border-color: transparent;\n",
              "      border-bottom-color: var(--fill-color);\n",
              "      border-left-color: var(--fill-color);\n",
              "    }\n",
              "    20% {\n",
              "      border-color: transparent;\n",
              "      border-left-color: var(--fill-color);\n",
              "      border-top-color: var(--fill-color);\n",
              "    }\n",
              "    30% {\n",
              "      border-color: transparent;\n",
              "      border-left-color: var(--fill-color);\n",
              "      border-top-color: var(--fill-color);\n",
              "      border-right-color: var(--fill-color);\n",
              "    }\n",
              "    40% {\n",
              "      border-color: transparent;\n",
              "      border-right-color: var(--fill-color);\n",
              "      border-top-color: var(--fill-color);\n",
              "    }\n",
              "    60% {\n",
              "      border-color: transparent;\n",
              "      border-right-color: var(--fill-color);\n",
              "    }\n",
              "    80% {\n",
              "      border-color: transparent;\n",
              "      border-right-color: var(--fill-color);\n",
              "      border-bottom-color: var(--fill-color);\n",
              "    }\n",
              "    90% {\n",
              "      border-color: transparent;\n",
              "      border-bottom-color: var(--fill-color);\n",
              "    }\n",
              "  }\n",
              "</style>\n",
              "\n",
              "      <script>\n",
              "        async function quickchart(key) {\n",
              "          const quickchartButtonEl =\n",
              "            document.querySelector('#' + key + ' button');\n",
              "          quickchartButtonEl.disabled = true;  // To prevent multiple clicks.\n",
              "          quickchartButtonEl.classList.add('colab-df-spinner');\n",
              "          try {\n",
              "            const charts = await google.colab.kernel.invokeFunction(\n",
              "                'suggestCharts', [key], {});\n",
              "          } catch (error) {\n",
              "            console.error('Error during call to suggestCharts:', error);\n",
              "          }\n",
              "          quickchartButtonEl.classList.remove('colab-df-spinner');\n",
              "          quickchartButtonEl.classList.add('colab-df-quickchart-complete');\n",
              "        }\n",
              "        (() => {\n",
              "          let quickchartButtonEl =\n",
              "            document.querySelector('#df-9344d89b-cb43-48aa-b891-d3887519fea8 button');\n",
              "          quickchartButtonEl.style.display =\n",
              "            google.colab.kernel.accessAllowed ? 'block' : 'none';\n",
              "        })();\n",
              "      </script>\n",
              "    </div>\n",
              "\n",
              "    </div>\n",
              "  </div>\n"
            ],
            "text/plain": [
              "                                               title product_type  \\\n",
              "0                            It's Only the Himalayas        Books   \n",
              "1  Full Moon over Noah’s Ark: An Odyssey to Mount...        Books   \n",
              "2  See America: A Celebration of Our National Par...        Books   \n",
              "3  Vagabonding: An Uncommon Guide to the Art of L...        Books   \n",
              "4                               Under the Tuscan Sun        Books   \n",
              "\n",
              "                                         description category  \\\n",
              "0  “Wherever you go, whatever you do, just . . . ...   Travel   \n",
              "1  Acclaimed travel writer Rick Antonson sets his...   Travel   \n",
              "2  To coincide with the 2016 centennial anniversa...   Travel   \n",
              "3  With a new foreword by Tim Ferriss •There’s no...   Travel   \n",
              "4  A CLASSIC FROM THE BESTSELLING AUTHOR OF UNDER...   Travel   \n",
              "\n",
              "                UPC price_incl_tax price_excl_tax    tax  \\\n",
              "0  a22124811bfa8350         £45.17         £45.17  £0.00   \n",
              "1  ce60436f52c5ee68         £49.43         £49.43  £0.00   \n",
              "2  f9705c362f070608         £48.87         £48.87  £0.00   \n",
              "3  1809259a5a5f1d8d         £36.94         £36.94  £0.00   \n",
              "4  a94350ee74deaa07         £37.33         £37.33  £0.00   \n",
              "\n",
              "              availability  n_reviews             rating  \\\n",
              "0  In stock (19 available)          0    star-rating Two   \n",
              "1  In stock (15 available)          0   star-rating Four   \n",
              "2  In stock (14 available)          0  star-rating Three   \n",
              "3   In stock (8 available)          0    star-rating Two   \n",
              "4   In stock (7 available)          0  star-rating Three   \n",
              "\n",
              "                                           image_url  \n",
              "0  https://books.toscrape.com/media/cache/6d/41/6...  \n",
              "1  https://books.toscrape.com/media/cache/fe/8a/f...  \n",
              "2  https://books.toscrape.com/media/cache/c7/1a/c...  \n",
              "3  https://books.toscrape.com/media/cache/ca/30/c...  \n",
              "4  https://books.toscrape.com/media/cache/45/21/4...  "
            ]
          },
          "execution_count": 48,
          "metadata": {},
          "output_type": "execute_result"
        }
      ],
      "source": [
        "df = pd.read_csv(r'/content/drive/MyDrive/FundamentosCienciaDatos/books.csv')\n",
        "df.head()"
      ]
    },
    {
      "cell_type": "code",
      "execution_count": null,
      "metadata": {
        "id": "8stLh7UNRT6a"
      },
      "outputs": [],
      "source": [
        "df_libros_sin_categoria = df[df[\"category\"].isin([\"Default\",\"Add a comment\"])]"
      ]
    },
    {
      "cell_type": "code",
      "execution_count": null,
      "metadata": {
        "colab": {
          "base_uri": "https://localhost:8080/",
          "height": 17
        },
        "id": "-rbM5rc1RUnc",
        "outputId": "4e47d9e3-4e72-42b8-df7d-18babc21acbb"
      },
      "outputs": [
        {
          "data": {
            "application/javascript": "\n    async function download(id, filename, size) {\n      if (!google.colab.kernel.accessAllowed) {\n        return;\n      }\n      const div = document.createElement('div');\n      const label = document.createElement('label');\n      label.textContent = `Downloading \"${filename}\": `;\n      div.appendChild(label);\n      const progress = document.createElement('progress');\n      progress.max = size;\n      div.appendChild(progress);\n      document.body.appendChild(div);\n\n      const buffers = [];\n      let downloaded = 0;\n\n      const channel = await google.colab.kernel.comms.open(id);\n      // Send a message to notify the kernel that we're ready.\n      channel.send({})\n\n      for await (const message of channel.messages) {\n        // Send a message to notify the kernel that we're ready.\n        channel.send({})\n        if (message.buffers) {\n          for (const buffer of message.buffers) {\n            buffers.push(buffer);\n            downloaded += buffer.byteLength;\n            progress.value = downloaded;\n          }\n        }\n      }\n      const blob = new Blob(buffers, {type: 'application/binary'});\n      const a = document.createElement('a');\n      a.href = window.URL.createObjectURL(blob);\n      a.download = filename;\n      div.appendChild(a);\n      a.click();\n      div.remove();\n    }\n  ",
            "text/plain": [
              "<IPython.core.display.Javascript object>"
            ]
          },
          "metadata": {},
          "output_type": "display_data"
        },
        {
          "data": {
            "application/javascript": "download(\"download_04cfb1a6-854b-4e2c-a450-342220fdf56e\", \"libros_sin_categoria.csv\", 324656)",
            "text/plain": [
              "<IPython.core.display.Javascript object>"
            ]
          },
          "metadata": {},
          "output_type": "display_data"
        }
      ],
      "source": [
        "df_libros_sin_categoria = df_libros_sin_categoria.drop(\"category\",axis=1)\n",
        "df_libros_sin_categoria = df_libros_sin_categoria[[\"title\",\"description\"]]\n",
        "df_libros_sin_categoria.to_csv(\"libros_sin_categoria.csv\", index=False)\n",
        "files.download('libros_sin_categoria.csv')"
      ]
    },
    {
      "cell_type": "markdown",
      "metadata": {
        "id": "oP6EJi2zUywC"
      },
      "source": [
        "## Remover duplicados"
      ]
    },
    {
      "cell_type": "code",
      "execution_count": null,
      "metadata": {
        "id": "Cg1v0T4rUn0Q"
      },
      "outputs": [],
      "source": [
        "df.drop_duplicates(inplace=True)"
      ]
    },
    {
      "cell_type": "markdown",
      "metadata": {
        "id": "0S8eUmAuVEPJ"
      },
      "source": [
        "## Valores nulos"
      ]
    },
    {
      "cell_type": "code",
      "execution_count": null,
      "metadata": {
        "colab": {
          "base_uri": "https://localhost:8080/"
        },
        "id": "-LEOCYKUpXyd",
        "outputId": "cbcd709c-652f-4290-b935-ec0e36278e6e"
      },
      "outputs": [
        {
          "name": "stdout",
          "output_type": "stream",
          "text": [
            "<class 'pandas.core.frame.DataFrame'>\n",
            "RangeIndex: 1000 entries, 0 to 999\n",
            "Data columns (total 12 columns):\n",
            " #   Column          Non-Null Count  Dtype \n",
            "---  ------          --------------  ----- \n",
            " 0   title           1000 non-null   object\n",
            " 1   product_type    1000 non-null   object\n",
            " 2   description     998 non-null    object\n",
            " 3   category        1000 non-null   object\n",
            " 4   UPC             1000 non-null   object\n",
            " 5   price_incl_tax  1000 non-null   object\n",
            " 6   price_excl_tax  1000 non-null   object\n",
            " 7   tax             1000 non-null   object\n",
            " 8   availability    1000 non-null   object\n",
            " 9   n_reviews       1000 non-null   int64 \n",
            " 10  rating          1000 non-null   object\n",
            " 11  image_url       1000 non-null   object\n",
            "dtypes: int64(1), object(11)\n",
            "memory usage: 93.9+ KB\n"
          ]
        }
      ],
      "source": [
        "df.info()"
      ]
    },
    {
      "cell_type": "code",
      "execution_count": null,
      "metadata": {
        "colab": {
          "base_uri": "https://localhost:8080/",
          "height": 250
        },
        "id": "PKxbv-1hpZqj",
        "outputId": "c9cfe158-d12e-4ad3-b943-56b9a9b0b6dd"
      },
      "outputs": [
        {
          "data": {
            "application/vnd.google.colaboratory.intrinsic+json": {
              "repr_error": "0",
              "type": "dataframe"
            },
            "text/html": [
              "\n",
              "  <div id=\"df-0ccc3a6a-4f19-496b-94d1-7b44f74f6678\" class=\"colab-df-container\">\n",
              "    <div>\n",
              "<style scoped>\n",
              "    .dataframe tbody tr th:only-of-type {\n",
              "        vertical-align: middle;\n",
              "    }\n",
              "\n",
              "    .dataframe tbody tr th {\n",
              "        vertical-align: top;\n",
              "    }\n",
              "\n",
              "    .dataframe thead th {\n",
              "        text-align: right;\n",
              "    }\n",
              "</style>\n",
              "<table border=\"1\" class=\"dataframe\">\n",
              "  <thead>\n",
              "    <tr style=\"text-align: right;\">\n",
              "      <th></th>\n",
              "      <th>title</th>\n",
              "      <th>product_type</th>\n",
              "      <th>description</th>\n",
              "      <th>category</th>\n",
              "      <th>UPC</th>\n",
              "      <th>price_incl_tax</th>\n",
              "      <th>price_excl_tax</th>\n",
              "      <th>tax</th>\n",
              "      <th>availability</th>\n",
              "      <th>n_reviews</th>\n",
              "      <th>rating</th>\n",
              "      <th>image_url</th>\n",
              "    </tr>\n",
              "  </thead>\n",
              "  <tbody>\n",
              "    <tr>\n",
              "      <th>89</th>\n",
              "      <td>Alice in Wonderland (Alice's Adventures in Won...</td>\n",
              "      <td>Books</td>\n",
              "      <td>NaN</td>\n",
              "      <td>Classics</td>\n",
              "      <td>cd2a2a70dd5d176d</td>\n",
              "      <td>£55.53</td>\n",
              "      <td>£55.53</td>\n",
              "      <td>£0.00</td>\n",
              "      <td>In stock (1 available)</td>\n",
              "      <td>0</td>\n",
              "      <td>star-rating One</td>\n",
              "      <td>https://books.toscrape.com/media/cache/99/df/9...</td>\n",
              "    </tr>\n",
              "    <tr>\n",
              "      <th>237</th>\n",
              "      <td>The Bridge to Consciousness: I'm Writing the B...</td>\n",
              "      <td>Books</td>\n",
              "      <td>NaN</td>\n",
              "      <td>Default</td>\n",
              "      <td>efc3768127714ec3</td>\n",
              "      <td>£32.00</td>\n",
              "      <td>£32.00</td>\n",
              "      <td>£0.00</td>\n",
              "      <td>In stock (15 available)</td>\n",
              "      <td>0</td>\n",
              "      <td>star-rating Three</td>\n",
              "      <td>https://books.toscrape.com/media/cache/39/c7/3...</td>\n",
              "    </tr>\n",
              "  </tbody>\n",
              "</table>\n",
              "</div>\n",
              "    <div class=\"colab-df-buttons\">\n",
              "\n",
              "  <div class=\"colab-df-container\">\n",
              "    <button class=\"colab-df-convert\" onclick=\"convertToInteractive('df-0ccc3a6a-4f19-496b-94d1-7b44f74f6678')\"\n",
              "            title=\"Convert this dataframe to an interactive table.\"\n",
              "            style=\"display:none;\">\n",
              "\n",
              "  <svg xmlns=\"http://www.w3.org/2000/svg\" height=\"24px\" viewBox=\"0 -960 960 960\">\n",
              "    <path d=\"M120-120v-720h720v720H120Zm60-500h600v-160H180v160Zm220 220h160v-160H400v160Zm0 220h160v-160H400v160ZM180-400h160v-160H180v160Zm440 0h160v-160H620v160ZM180-180h160v-160H180v160Zm440 0h160v-160H620v160Z\"/>\n",
              "  </svg>\n",
              "    </button>\n",
              "\n",
              "  <style>\n",
              "    .colab-df-container {\n",
              "      display:flex;\n",
              "      gap: 12px;\n",
              "    }\n",
              "\n",
              "    .colab-df-convert {\n",
              "      background-color: #E8F0FE;\n",
              "      border: none;\n",
              "      border-radius: 50%;\n",
              "      cursor: pointer;\n",
              "      display: none;\n",
              "      fill: #1967D2;\n",
              "      height: 32px;\n",
              "      padding: 0 0 0 0;\n",
              "      width: 32px;\n",
              "    }\n",
              "\n",
              "    .colab-df-convert:hover {\n",
              "      background-color: #E2EBFA;\n",
              "      box-shadow: 0px 1px 2px rgba(60, 64, 67, 0.3), 0px 1px 3px 1px rgba(60, 64, 67, 0.15);\n",
              "      fill: #174EA6;\n",
              "    }\n",
              "\n",
              "    .colab-df-buttons div {\n",
              "      margin-bottom: 4px;\n",
              "    }\n",
              "\n",
              "    [theme=dark] .colab-df-convert {\n",
              "      background-color: #3B4455;\n",
              "      fill: #D2E3FC;\n",
              "    }\n",
              "\n",
              "    [theme=dark] .colab-df-convert:hover {\n",
              "      background-color: #434B5C;\n",
              "      box-shadow: 0px 1px 3px 1px rgba(0, 0, 0, 0.15);\n",
              "      filter: drop-shadow(0px 1px 2px rgba(0, 0, 0, 0.3));\n",
              "      fill: #FFFFFF;\n",
              "    }\n",
              "  </style>\n",
              "\n",
              "    <script>\n",
              "      const buttonEl =\n",
              "        document.querySelector('#df-0ccc3a6a-4f19-496b-94d1-7b44f74f6678 button.colab-df-convert');\n",
              "      buttonEl.style.display =\n",
              "        google.colab.kernel.accessAllowed ? 'block' : 'none';\n",
              "\n",
              "      async function convertToInteractive(key) {\n",
              "        const element = document.querySelector('#df-0ccc3a6a-4f19-496b-94d1-7b44f74f6678');\n",
              "        const dataTable =\n",
              "          await google.colab.kernel.invokeFunction('convertToInteractive',\n",
              "                                                    [key], {});\n",
              "        if (!dataTable) return;\n",
              "\n",
              "        const docLinkHtml = 'Like what you see? Visit the ' +\n",
              "          '<a target=\"_blank\" href=https://colab.research.google.com/notebooks/data_table.ipynb>data table notebook</a>'\n",
              "          + ' to learn more about interactive tables.';\n",
              "        element.innerHTML = '';\n",
              "        dataTable['output_type'] = 'display_data';\n",
              "        await google.colab.output.renderOutput(dataTable, element);\n",
              "        const docLink = document.createElement('div');\n",
              "        docLink.innerHTML = docLinkHtml;\n",
              "        element.appendChild(docLink);\n",
              "      }\n",
              "    </script>\n",
              "  </div>\n",
              "\n",
              "\n",
              "    <div id=\"df-4dd9d9b6-0cdb-4eb5-9aa2-e6b320d360ae\">\n",
              "      <button class=\"colab-df-quickchart\" onclick=\"quickchart('df-4dd9d9b6-0cdb-4eb5-9aa2-e6b320d360ae')\"\n",
              "                title=\"Suggest charts\"\n",
              "                style=\"display:none;\">\n",
              "\n",
              "<svg xmlns=\"http://www.w3.org/2000/svg\" height=\"24px\"viewBox=\"0 0 24 24\"\n",
              "     width=\"24px\">\n",
              "    <g>\n",
              "        <path d=\"M19 3H5c-1.1 0-2 .9-2 2v14c0 1.1.9 2 2 2h14c1.1 0 2-.9 2-2V5c0-1.1-.9-2-2-2zM9 17H7v-7h2v7zm4 0h-2V7h2v10zm4 0h-2v-4h2v4z\"/>\n",
              "    </g>\n",
              "</svg>\n",
              "      </button>\n",
              "\n",
              "<style>\n",
              "  .colab-df-quickchart {\n",
              "      --bg-color: #E8F0FE;\n",
              "      --fill-color: #1967D2;\n",
              "      --hover-bg-color: #E2EBFA;\n",
              "      --hover-fill-color: #174EA6;\n",
              "      --disabled-fill-color: #AAA;\n",
              "      --disabled-bg-color: #DDD;\n",
              "  }\n",
              "\n",
              "  [theme=dark] .colab-df-quickchart {\n",
              "      --bg-color: #3B4455;\n",
              "      --fill-color: #D2E3FC;\n",
              "      --hover-bg-color: #434B5C;\n",
              "      --hover-fill-color: #FFFFFF;\n",
              "      --disabled-bg-color: #3B4455;\n",
              "      --disabled-fill-color: #666;\n",
              "  }\n",
              "\n",
              "  .colab-df-quickchart {\n",
              "    background-color: var(--bg-color);\n",
              "    border: none;\n",
              "    border-radius: 50%;\n",
              "    cursor: pointer;\n",
              "    display: none;\n",
              "    fill: var(--fill-color);\n",
              "    height: 32px;\n",
              "    padding: 0;\n",
              "    width: 32px;\n",
              "  }\n",
              "\n",
              "  .colab-df-quickchart:hover {\n",
              "    background-color: var(--hover-bg-color);\n",
              "    box-shadow: 0 1px 2px rgba(60, 64, 67, 0.3), 0 1px 3px 1px rgba(60, 64, 67, 0.15);\n",
              "    fill: var(--button-hover-fill-color);\n",
              "  }\n",
              "\n",
              "  .colab-df-quickchart-complete:disabled,\n",
              "  .colab-df-quickchart-complete:disabled:hover {\n",
              "    background-color: var(--disabled-bg-color);\n",
              "    fill: var(--disabled-fill-color);\n",
              "    box-shadow: none;\n",
              "  }\n",
              "\n",
              "  .colab-df-spinner {\n",
              "    border: 2px solid var(--fill-color);\n",
              "    border-color: transparent;\n",
              "    border-bottom-color: var(--fill-color);\n",
              "    animation:\n",
              "      spin 1s steps(1) infinite;\n",
              "  }\n",
              "\n",
              "  @keyframes spin {\n",
              "    0% {\n",
              "      border-color: transparent;\n",
              "      border-bottom-color: var(--fill-color);\n",
              "      border-left-color: var(--fill-color);\n",
              "    }\n",
              "    20% {\n",
              "      border-color: transparent;\n",
              "      border-left-color: var(--fill-color);\n",
              "      border-top-color: var(--fill-color);\n",
              "    }\n",
              "    30% {\n",
              "      border-color: transparent;\n",
              "      border-left-color: var(--fill-color);\n",
              "      border-top-color: var(--fill-color);\n",
              "      border-right-color: var(--fill-color);\n",
              "    }\n",
              "    40% {\n",
              "      border-color: transparent;\n",
              "      border-right-color: var(--fill-color);\n",
              "      border-top-color: var(--fill-color);\n",
              "    }\n",
              "    60% {\n",
              "      border-color: transparent;\n",
              "      border-right-color: var(--fill-color);\n",
              "    }\n",
              "    80% {\n",
              "      border-color: transparent;\n",
              "      border-right-color: var(--fill-color);\n",
              "      border-bottom-color: var(--fill-color);\n",
              "    }\n",
              "    90% {\n",
              "      border-color: transparent;\n",
              "      border-bottom-color: var(--fill-color);\n",
              "    }\n",
              "  }\n",
              "</style>\n",
              "\n",
              "      <script>\n",
              "        async function quickchart(key) {\n",
              "          const quickchartButtonEl =\n",
              "            document.querySelector('#' + key + ' button');\n",
              "          quickchartButtonEl.disabled = true;  // To prevent multiple clicks.\n",
              "          quickchartButtonEl.classList.add('colab-df-spinner');\n",
              "          try {\n",
              "            const charts = await google.colab.kernel.invokeFunction(\n",
              "                'suggestCharts', [key], {});\n",
              "          } catch (error) {\n",
              "            console.error('Error during call to suggestCharts:', error);\n",
              "          }\n",
              "          quickchartButtonEl.classList.remove('colab-df-spinner');\n",
              "          quickchartButtonEl.classList.add('colab-df-quickchart-complete');\n",
              "        }\n",
              "        (() => {\n",
              "          let quickchartButtonEl =\n",
              "            document.querySelector('#df-4dd9d9b6-0cdb-4eb5-9aa2-e6b320d360ae button');\n",
              "          quickchartButtonEl.style.display =\n",
              "            google.colab.kernel.accessAllowed ? 'block' : 'none';\n",
              "        })();\n",
              "      </script>\n",
              "    </div>\n",
              "\n",
              "    </div>\n",
              "  </div>\n"
            ],
            "text/plain": [
              "                                                 title product_type  \\\n",
              "89   Alice in Wonderland (Alice's Adventures in Won...        Books   \n",
              "237  The Bridge to Consciousness: I'm Writing the B...        Books   \n",
              "\n",
              "    description  category               UPC price_incl_tax price_excl_tax  \\\n",
              "89          NaN  Classics  cd2a2a70dd5d176d         £55.53         £55.53   \n",
              "237         NaN   Default  efc3768127714ec3         £32.00         £32.00   \n",
              "\n",
              "       tax             availability  n_reviews             rating  \\\n",
              "89   £0.00   In stock (1 available)          0    star-rating One   \n",
              "237  £0.00  In stock (15 available)          0  star-rating Three   \n",
              "\n",
              "                                             image_url  \n",
              "89   https://books.toscrape.com/media/cache/99/df/9...  \n",
              "237  https://books.toscrape.com/media/cache/39/c7/3...  "
            ]
          },
          "execution_count": 7,
          "metadata": {},
          "output_type": "execute_result"
        }
      ],
      "source": [
        "df[df[\"description\"].isnull()]"
      ]
    },
    {
      "cell_type": "markdown",
      "metadata": {
        "id": "7eJFinQup3-K"
      },
      "source": [
        "La descripción realmente no aportará al modelo, por lo que la opción más conveniente sería tener una columna con la longitud de la descripción y/o análisis de sentimiento."
      ]
    },
    {
      "cell_type": "code",
      "execution_count": null,
      "metadata": {
        "id": "5mD-1RUnpem7"
      },
      "outputs": [],
      "source": [
        "df[\"description\"] = df[\"description\"].fillna(\"\")\n",
        "df[\"description_length\"] = df[\"description\"].apply(lambda x: len(x.split()))"
      ]
    },
    {
      "cell_type": "code",
      "execution_count": null,
      "metadata": {
        "colab": {
          "base_uri": "https://localhost:8080/",
          "height": 145
        },
        "id": "aGv6UPfaqxhI",
        "outputId": "f392e95a-ec7a-43b9-e68b-c4a2ea349af2"
      },
      "outputs": [
        {
          "data": {
            "text/html": [
              "<div>\n",
              "<style scoped>\n",
              "    .dataframe tbody tr th:only-of-type {\n",
              "        vertical-align: middle;\n",
              "    }\n",
              "\n",
              "    .dataframe tbody tr th {\n",
              "        vertical-align: top;\n",
              "    }\n",
              "\n",
              "    .dataframe thead th {\n",
              "        text-align: right;\n",
              "    }\n",
              "</style>\n",
              "<table border=\"1\" class=\"dataframe\">\n",
              "  <thead>\n",
              "    <tr style=\"text-align: right;\">\n",
              "      <th></th>\n",
              "      <th>count</th>\n",
              "    </tr>\n",
              "    <tr>\n",
              "      <th>product_type</th>\n",
              "      <th></th>\n",
              "    </tr>\n",
              "  </thead>\n",
              "  <tbody>\n",
              "    <tr>\n",
              "      <th>Books</th>\n",
              "      <td>1000</td>\n",
              "    </tr>\n",
              "  </tbody>\n",
              "</table>\n",
              "</div><br><label><b>dtype:</b> int64</label>"
            ],
            "text/plain": [
              "product_type\n",
              "Books    1000\n",
              "Name: count, dtype: int64"
            ]
          },
          "execution_count": 9,
          "metadata": {},
          "output_type": "execute_result"
        }
      ],
      "source": [
        "df[\"product_type\"].value_counts()"
      ]
    },
    {
      "cell_type": "markdown",
      "metadata": {
        "id": "4QcbON5R-Htq"
      },
      "source": [
        "La columna es constante, así que no aporta. Podemos retirarla"
      ]
    },
    {
      "cell_type": "code",
      "execution_count": null,
      "metadata": {
        "id": "iKDZUuCs9ct8"
      },
      "outputs": [],
      "source": [
        "df = df.drop(\"product_type\", axis=1)"
      ]
    },
    {
      "cell_type": "markdown",
      "metadata": {
        "id": "pHwBW8kR-yyw"
      },
      "source": [
        "La columna de UPC es única para cada registro, lo cual no aporta para el análisis posterior"
      ]
    },
    {
      "cell_type": "code",
      "execution_count": null,
      "metadata": {
        "id": "e9T6cqIR-xhR"
      },
      "outputs": [],
      "source": [
        "df = df.drop(\"UPC\", axis=1)"
      ]
    },
    {
      "cell_type": "markdown",
      "metadata": {
        "id": "UB5Je7GX_KXI"
      },
      "source": [
        "Lo mismo sucede con image_url"
      ]
    },
    {
      "cell_type": "code",
      "execution_count": null,
      "metadata": {
        "colab": {
          "base_uri": "https://localhost:8080/",
          "height": 145
        },
        "id": "k33nNW089VGB",
        "outputId": "314b41eb-d8a6-48aa-cdbc-30f8f5d2af0d"
      },
      "outputs": [
        {
          "data": {
            "text/html": [
              "<div>\n",
              "<style scoped>\n",
              "    .dataframe tbody tr th:only-of-type {\n",
              "        vertical-align: middle;\n",
              "    }\n",
              "\n",
              "    .dataframe tbody tr th {\n",
              "        vertical-align: top;\n",
              "    }\n",
              "\n",
              "    .dataframe thead th {\n",
              "        text-align: right;\n",
              "    }\n",
              "</style>\n",
              "<table border=\"1\" class=\"dataframe\">\n",
              "  <thead>\n",
              "    <tr style=\"text-align: right;\">\n",
              "      <th></th>\n",
              "      <th>count</th>\n",
              "    </tr>\n",
              "    <tr>\n",
              "      <th>n_reviews</th>\n",
              "      <th></th>\n",
              "    </tr>\n",
              "  </thead>\n",
              "  <tbody>\n",
              "    <tr>\n",
              "      <th>0</th>\n",
              "      <td>1000</td>\n",
              "    </tr>\n",
              "  </tbody>\n",
              "</table>\n",
              "</div><br><label><b>dtype:</b> int64</label>"
            ],
            "text/plain": [
              "n_reviews\n",
              "0    1000\n",
              "Name: count, dtype: int64"
            ]
          },
          "execution_count": 12,
          "metadata": {},
          "output_type": "execute_result"
        }
      ],
      "source": [
        "df[\"n_reviews\"].value_counts()"
      ]
    },
    {
      "cell_type": "markdown",
      "metadata": {
        "id": "9c5pRDvz_YHp"
      },
      "source": [
        "Y lo mismo sucede con n_reviews."
      ]
    },
    {
      "cell_type": "code",
      "execution_count": null,
      "metadata": {
        "colab": {
          "base_uri": "https://localhost:8080/",
          "height": 145
        },
        "id": "NFWsCqTFCayu",
        "outputId": "83e0f279-f75d-4226-85cd-f2290e427be5"
      },
      "outputs": [
        {
          "data": {
            "text/html": [
              "<div>\n",
              "<style scoped>\n",
              "    .dataframe tbody tr th:only-of-type {\n",
              "        vertical-align: middle;\n",
              "    }\n",
              "\n",
              "    .dataframe tbody tr th {\n",
              "        vertical-align: top;\n",
              "    }\n",
              "\n",
              "    .dataframe thead th {\n",
              "        text-align: right;\n",
              "    }\n",
              "</style>\n",
              "<table border=\"1\" class=\"dataframe\">\n",
              "  <thead>\n",
              "    <tr style=\"text-align: right;\">\n",
              "      <th></th>\n",
              "      <th>count</th>\n",
              "    </tr>\n",
              "    <tr>\n",
              "      <th>tax</th>\n",
              "      <th></th>\n",
              "    </tr>\n",
              "  </thead>\n",
              "  <tbody>\n",
              "    <tr>\n",
              "      <th>£0.00</th>\n",
              "      <td>1000</td>\n",
              "    </tr>\n",
              "  </tbody>\n",
              "</table>\n",
              "</div><br><label><b>dtype:</b> int64</label>"
            ],
            "text/plain": [
              "tax\n",
              "£0.00    1000\n",
              "Name: count, dtype: int64"
            ]
          },
          "execution_count": 13,
          "metadata": {},
          "output_type": "execute_result"
        }
      ],
      "source": [
        "df[\"tax\"].value_counts()"
      ]
    },
    {
      "cell_type": "markdown",
      "metadata": {
        "id": "CA2gS3tRCdaq"
      },
      "source": [
        "Y lo mismo con tax"
      ]
    },
    {
      "cell_type": "code",
      "execution_count": null,
      "metadata": {
        "id": "6eYkd7h0_VfE"
      },
      "outputs": [],
      "source": [
        "df = df.drop([\"image_url\", \"n_reviews\",\"tax\"], axis=1)"
      ]
    },
    {
      "cell_type": "markdown",
      "metadata": {
        "id": "epW9o263CqjW"
      },
      "source": [
        "Como tax es cero en todos los casos, se puede quitar la columna"
      ]
    },
    {
      "cell_type": "code",
      "execution_count": null,
      "metadata": {
        "colab": {
          "base_uri": "https://localhost:8080/"
        },
        "id": "vcOdX8ii_v8B",
        "outputId": "3d095440-af8c-4500-c200-c43468ff87e5"
      },
      "outputs": [
        {
          "name": "stdout",
          "output_type": "stream",
          "text": [
            "<class 'pandas.core.frame.DataFrame'>\n",
            "RangeIndex: 1000 entries, 0 to 999\n",
            "Data columns (total 8 columns):\n",
            " #   Column              Non-Null Count  Dtype \n",
            "---  ------              --------------  ----- \n",
            " 0   title               1000 non-null   object\n",
            " 1   description         1000 non-null   object\n",
            " 2   category            1000 non-null   object\n",
            " 3   price_incl_tax      1000 non-null   object\n",
            " 4   price_excl_tax      1000 non-null   object\n",
            " 5   availability        1000 non-null   object\n",
            " 6   rating              1000 non-null   object\n",
            " 7   description_length  1000 non-null   int64 \n",
            "dtypes: int64(1), object(7)\n",
            "memory usage: 62.6+ KB\n"
          ]
        }
      ],
      "source": [
        "df.info()"
      ]
    },
    {
      "cell_type": "markdown",
      "metadata": {
        "id": "dRRW0lqcVn6o"
      },
      "source": [
        "## Inconsistencias en tipos de datos"
      ]
    },
    {
      "cell_type": "code",
      "execution_count": null,
      "metadata": {
        "id": "HLnKU4dq_xFN"
      },
      "outputs": [],
      "source": [
        "columnas_divisa = [\"price_incl_tax\",\"price_excl_tax\"]\n",
        "\n",
        "def clean_currency(value):\n",
        "  return float(value.strip().replace(\"£\",\"\"))\n",
        "\n",
        "\n",
        "for columna in columnas_divisa:\n",
        "  df[columna] = df[columna].apply(clean_currency)\n"
      ]
    },
    {
      "cell_type": "code",
      "execution_count": null,
      "metadata": {
        "id": "AwWZ3fNgHLFH"
      },
      "outputs": [],
      "source": [
        "df[\"tax\"] = df[\"price_incl_tax\"] - df[\"price_excl_tax\"]"
      ]
    },
    {
      "cell_type": "code",
      "execution_count": null,
      "metadata": {
        "colab": {
          "base_uri": "https://localhost:8080/"
        },
        "id": "G5HdtG5FAtut",
        "outputId": "ab2574dc-12b6-4e7e-e9ce-4912af9f6ba8"
      },
      "outputs": [
        {
          "name": "stdout",
          "output_type": "stream",
          "text": [
            "<class 'pandas.core.frame.DataFrame'>\n",
            "RangeIndex: 1000 entries, 0 to 999\n",
            "Data columns (total 9 columns):\n",
            " #   Column              Non-Null Count  Dtype  \n",
            "---  ------              --------------  -----  \n",
            " 0   title               1000 non-null   object \n",
            " 1   description         1000 non-null   object \n",
            " 2   category            1000 non-null   object \n",
            " 3   price_incl_tax      1000 non-null   float64\n",
            " 4   price_excl_tax      1000 non-null   float64\n",
            " 5   availability        1000 non-null   object \n",
            " 6   rating              1000 non-null   object \n",
            " 7   description_length  1000 non-null   int64  \n",
            " 8   tax                 1000 non-null   float64\n",
            "dtypes: float64(3), int64(1), object(5)\n",
            "memory usage: 70.4+ KB\n"
          ]
        }
      ],
      "source": [
        "df.info()"
      ]
    },
    {
      "cell_type": "code",
      "execution_count": null,
      "metadata": {
        "colab": {
          "base_uri": "https://localhost:8080/",
          "height": 459
        },
        "id": "vsagc4jnAur6",
        "outputId": "df34c2c0-9282-463e-8fd2-fa5be01101c5"
      },
      "outputs": [
        {
          "data": {
            "application/vnd.google.colaboratory.intrinsic+json": {
              "summary": "{\n  \"name\": \"df\",\n  \"rows\": 1000,\n  \"fields\": [\n    {\n      \"column\": \"title\",\n      \"properties\": {\n        \"dtype\": \"string\",\n        \"num_unique_values\": 999,\n        \"samples\": [\n          \"Counted With the Stars (Out from Egypt #1)\",\n          \"The New Brand You: Your New Image Makes the Sale for You\",\n          \"Please Kill Me: The Uncensored Oral History of Punk\"\n        ],\n        \"semantic_type\": \"\",\n        \"description\": \"\"\n      }\n    },\n    {\n      \"column\": \"description\",\n      \"properties\": {\n        \"dtype\": \"string\",\n        \"num_unique_values\": 999,\n        \"samples\": [\n          \"A Story of Love, Desperation, and Hope During a Great Biblical EpochSold into slavery by her father and forsaken by the man she was supposed to marry, young Egyptian Kiya must serve a mistress who takes pleasure in her humiliation. When terrifying plagues strike Egypt, Kiya is in the middle of it all.To save her older brother and escape the bonds of slavery, Kiya flees wit A Story of Love, Desperation, and Hope During a Great Biblical EpochSold into slavery by her father and forsaken by the man she was supposed to marry, young Egyptian Kiya must serve a mistress who takes pleasure in her humiliation. When terrifying plagues strike Egypt, Kiya is in the middle of it all.To save her older brother and escape the bonds of slavery, Kiya flees with the Hebrews during the Great Exodus. She finds herself utterly dependent on a fearsome God she's only just beginning to learn about, and in love with a man who despises her people. With everything she's ever known swept away, will Kiya turn back toward Egypt or surrender her life and her future to Yahweh? ...more\",\n          \"You want people to recognize you, like you, and trust you, so they buy from you. You may have already branded yourself with this in mind but perhaps you\\u2019re not getting the desired results. Many people think that branding is about cool logos, fancy websites and social media popularity. But this line of thought causes potential successes to fail.So what does work? In The New You want people to recognize you, like you, and trust you, so they buy from you. You may have already branded yourself with this in mind but perhaps you\\u2019re not getting the desired results. Many people think that branding is about cool logos, fancy websites and social media popularity. But this line of thought causes potential successes to fail.So what does work? In The New Brand You, Julie Broad, MBA, bestselling author, popular speaker, and award winning entrepreneur, shares the secrets of creating a trusted brand.You\\u2019ll learn what is critical in reinventing your personal brand, and why you may never have to tweet, pin or post to do it. Did you know that \\u2026?\\u2022 Your brand is first of all about the feelings, thoughts and experiences of your customers and clients.\\u2022 There are at least 42 common communication mistakes that dilute your message, and only two things you have to do to have a brand with big impact.\\u2022 Online, you are who Google says you are \\u2026The New Brand You is your detailed guidebook to successfully recreating your brand and attracting your ideal clients. ...more\",\n          \"A Time Out and Daily News Top Ten Book of the Year upon its initial release, Please Kill Me is the first oral history of the most nihilist of all pop movements. Iggy Pop, Danny Fields, Dee Dee and Joey Ramone, Malcom McLaren, Jim Carroll, and scores of other famous and infamous punk figures lend their voices to this definitive account of that outrageous, explosive era. Fro A Time Out and Daily News Top Ten Book of the Year upon its initial release, Please Kill Me is the first oral history of the most nihilist of all pop movements. Iggy Pop, Danny Fields, Dee Dee and Joey Ramone, Malcom McLaren, Jim Carroll, and scores of other famous and infamous punk figures lend their voices to this definitive account of that outrageous, explosive era. From its origins in the twilight years of Andy Warhol\\u2019s New York reign to its last gasps as eighties corporate rock, the phenomenon known as punk is scrutinized, eulogized, and idealized by the people who were there and who made it happen. ...more\"\n        ],\n        \"semantic_type\": \"\",\n        \"description\": \"\"\n      }\n    },\n    {\n      \"column\": \"category\",\n      \"properties\": {\n        \"dtype\": \"category\",\n        \"num_unique_values\": 50,\n        \"samples\": [\n          \"Default\",\n          \"Self Help\",\n          \"History\"\n        ],\n        \"semantic_type\": \"\",\n        \"description\": \"\"\n      }\n    },\n    {\n      \"column\": \"price_incl_tax\",\n      \"properties\": {\n        \"dtype\": \"number\",\n        \"std\": 14.446689669952764,\n        \"min\": 10.0,\n        \"max\": 59.99,\n        \"num_unique_values\": 903,\n        \"samples\": [\n          17.08,\n          52.22,\n          53.13\n        ],\n        \"semantic_type\": \"\",\n        \"description\": \"\"\n      }\n    },\n    {\n      \"column\": \"price_excl_tax\",\n      \"properties\": {\n        \"dtype\": \"number\",\n        \"std\": 14.446689669952764,\n        \"min\": 10.0,\n        \"max\": 59.99,\n        \"num_unique_values\": 903,\n        \"samples\": [\n          17.08,\n          52.22,\n          53.13\n        ],\n        \"semantic_type\": \"\",\n        \"description\": \"\"\n      }\n    },\n    {\n      \"column\": \"availability\",\n      \"properties\": {\n        \"dtype\": \"category\",\n        \"num_unique_values\": 21,\n        \"samples\": [\n          \"In stock (19 available)\",\n          \"In stock (9 available)\",\n          \"In stock (2 available)\"\n        ],\n        \"semantic_type\": \"\",\n        \"description\": \"\"\n      }\n    },\n    {\n      \"column\": \"rating\",\n      \"properties\": {\n        \"dtype\": \"category\",\n        \"num_unique_values\": 5,\n        \"samples\": [\n          \"star-rating Four\",\n          \"star-rating Five\",\n          \"star-rating Three\"\n        ],\n        \"semantic_type\": \"\",\n        \"description\": \"\"\n      }\n    },\n    {\n      \"column\": \"description_length\",\n      \"properties\": {\n        \"dtype\": \"number\",\n        \"std\": 107,\n        \"min\": 0,\n        \"max\": 1390,\n        \"num_unique_values\": 330,\n        \"samples\": [\n          210,\n          339,\n          151\n        ],\n        \"semantic_type\": \"\",\n        \"description\": \"\"\n      }\n    },\n    {\n      \"column\": \"tax\",\n      \"properties\": {\n        \"dtype\": \"number\",\n        \"std\": 0.0,\n        \"min\": 0.0,\n        \"max\": 0.0,\n        \"num_unique_values\": 1,\n        \"samples\": [\n          0.0\n        ],\n        \"semantic_type\": \"\",\n        \"description\": \"\"\n      }\n    }\n  ]\n}",
              "type": "dataframe",
              "variable_name": "df"
            },
            "text/html": [
              "\n",
              "  <div id=\"df-b46b60bf-7a52-4784-a918-4bc3d3839c4c\" class=\"colab-df-container\">\n",
              "    <div>\n",
              "<style scoped>\n",
              "    .dataframe tbody tr th:only-of-type {\n",
              "        vertical-align: middle;\n",
              "    }\n",
              "\n",
              "    .dataframe tbody tr th {\n",
              "        vertical-align: top;\n",
              "    }\n",
              "\n",
              "    .dataframe thead th {\n",
              "        text-align: right;\n",
              "    }\n",
              "</style>\n",
              "<table border=\"1\" class=\"dataframe\">\n",
              "  <thead>\n",
              "    <tr style=\"text-align: right;\">\n",
              "      <th></th>\n",
              "      <th>title</th>\n",
              "      <th>description</th>\n",
              "      <th>category</th>\n",
              "      <th>price_incl_tax</th>\n",
              "      <th>price_excl_tax</th>\n",
              "      <th>availability</th>\n",
              "      <th>rating</th>\n",
              "      <th>description_length</th>\n",
              "      <th>tax</th>\n",
              "    </tr>\n",
              "  </thead>\n",
              "  <tbody>\n",
              "    <tr>\n",
              "      <th>0</th>\n",
              "      <td>It's Only the Himalayas</td>\n",
              "      <td>“Wherever you go, whatever you do, just . . . ...</td>\n",
              "      <td>Travel</td>\n",
              "      <td>45.17</td>\n",
              "      <td>45.17</td>\n",
              "      <td>In stock (19 available)</td>\n",
              "      <td>star-rating Two</td>\n",
              "      <td>230</td>\n",
              "      <td>0.0</td>\n",
              "    </tr>\n",
              "    <tr>\n",
              "      <th>1</th>\n",
              "      <td>Full Moon over Noah’s Ark: An Odyssey to Mount...</td>\n",
              "      <td>Acclaimed travel writer Rick Antonson sets his...</td>\n",
              "      <td>Travel</td>\n",
              "      <td>49.43</td>\n",
              "      <td>49.43</td>\n",
              "      <td>In stock (15 available)</td>\n",
              "      <td>star-rating Four</td>\n",
              "      <td>284</td>\n",
              "      <td>0.0</td>\n",
              "    </tr>\n",
              "    <tr>\n",
              "      <th>2</th>\n",
              "      <td>See America: A Celebration of Our National Par...</td>\n",
              "      <td>To coincide with the 2016 centennial anniversa...</td>\n",
              "      <td>Travel</td>\n",
              "      <td>48.87</td>\n",
              "      <td>48.87</td>\n",
              "      <td>In stock (14 available)</td>\n",
              "      <td>star-rating Three</td>\n",
              "      <td>145</td>\n",
              "      <td>0.0</td>\n",
              "    </tr>\n",
              "    <tr>\n",
              "      <th>3</th>\n",
              "      <td>Vagabonding: An Uncommon Guide to the Art of L...</td>\n",
              "      <td>With a new foreword by Tim Ferriss •There’s no...</td>\n",
              "      <td>Travel</td>\n",
              "      <td>36.94</td>\n",
              "      <td>36.94</td>\n",
              "      <td>In stock (8 available)</td>\n",
              "      <td>star-rating Two</td>\n",
              "      <td>329</td>\n",
              "      <td>0.0</td>\n",
              "    </tr>\n",
              "    <tr>\n",
              "      <th>4</th>\n",
              "      <td>Under the Tuscan Sun</td>\n",
              "      <td>A CLASSIC FROM THE BESTSELLING AUTHOR OF UNDER...</td>\n",
              "      <td>Travel</td>\n",
              "      <td>37.33</td>\n",
              "      <td>37.33</td>\n",
              "      <td>In stock (7 available)</td>\n",
              "      <td>star-rating Three</td>\n",
              "      <td>166</td>\n",
              "      <td>0.0</td>\n",
              "    </tr>\n",
              "  </tbody>\n",
              "</table>\n",
              "</div>\n",
              "    <div class=\"colab-df-buttons\">\n",
              "\n",
              "  <div class=\"colab-df-container\">\n",
              "    <button class=\"colab-df-convert\" onclick=\"convertToInteractive('df-b46b60bf-7a52-4784-a918-4bc3d3839c4c')\"\n",
              "            title=\"Convert this dataframe to an interactive table.\"\n",
              "            style=\"display:none;\">\n",
              "\n",
              "  <svg xmlns=\"http://www.w3.org/2000/svg\" height=\"24px\" viewBox=\"0 -960 960 960\">\n",
              "    <path d=\"M120-120v-720h720v720H120Zm60-500h600v-160H180v160Zm220 220h160v-160H400v160Zm0 220h160v-160H400v160ZM180-400h160v-160H180v160Zm440 0h160v-160H620v160ZM180-180h160v-160H180v160Zm440 0h160v-160H620v160Z\"/>\n",
              "  </svg>\n",
              "    </button>\n",
              "\n",
              "  <style>\n",
              "    .colab-df-container {\n",
              "      display:flex;\n",
              "      gap: 12px;\n",
              "    }\n",
              "\n",
              "    .colab-df-convert {\n",
              "      background-color: #E8F0FE;\n",
              "      border: none;\n",
              "      border-radius: 50%;\n",
              "      cursor: pointer;\n",
              "      display: none;\n",
              "      fill: #1967D2;\n",
              "      height: 32px;\n",
              "      padding: 0 0 0 0;\n",
              "      width: 32px;\n",
              "    }\n",
              "\n",
              "    .colab-df-convert:hover {\n",
              "      background-color: #E2EBFA;\n",
              "      box-shadow: 0px 1px 2px rgba(60, 64, 67, 0.3), 0px 1px 3px 1px rgba(60, 64, 67, 0.15);\n",
              "      fill: #174EA6;\n",
              "    }\n",
              "\n",
              "    .colab-df-buttons div {\n",
              "      margin-bottom: 4px;\n",
              "    }\n",
              "\n",
              "    [theme=dark] .colab-df-convert {\n",
              "      background-color: #3B4455;\n",
              "      fill: #D2E3FC;\n",
              "    }\n",
              "\n",
              "    [theme=dark] .colab-df-convert:hover {\n",
              "      background-color: #434B5C;\n",
              "      box-shadow: 0px 1px 3px 1px rgba(0, 0, 0, 0.15);\n",
              "      filter: drop-shadow(0px 1px 2px rgba(0, 0, 0, 0.3));\n",
              "      fill: #FFFFFF;\n",
              "    }\n",
              "  </style>\n",
              "\n",
              "    <script>\n",
              "      const buttonEl =\n",
              "        document.querySelector('#df-b46b60bf-7a52-4784-a918-4bc3d3839c4c button.colab-df-convert');\n",
              "      buttonEl.style.display =\n",
              "        google.colab.kernel.accessAllowed ? 'block' : 'none';\n",
              "\n",
              "      async function convertToInteractive(key) {\n",
              "        const element = document.querySelector('#df-b46b60bf-7a52-4784-a918-4bc3d3839c4c');\n",
              "        const dataTable =\n",
              "          await google.colab.kernel.invokeFunction('convertToInteractive',\n",
              "                                                    [key], {});\n",
              "        if (!dataTable) return;\n",
              "\n",
              "        const docLinkHtml = 'Like what you see? Visit the ' +\n",
              "          '<a target=\"_blank\" href=https://colab.research.google.com/notebooks/data_table.ipynb>data table notebook</a>'\n",
              "          + ' to learn more about interactive tables.';\n",
              "        element.innerHTML = '';\n",
              "        dataTable['output_type'] = 'display_data';\n",
              "        await google.colab.output.renderOutput(dataTable, element);\n",
              "        const docLink = document.createElement('div');\n",
              "        docLink.innerHTML = docLinkHtml;\n",
              "        element.appendChild(docLink);\n",
              "      }\n",
              "    </script>\n",
              "  </div>\n",
              "\n",
              "\n",
              "    <div id=\"df-2cd34386-3290-4edf-8066-8ea08af209e6\">\n",
              "      <button class=\"colab-df-quickchart\" onclick=\"quickchart('df-2cd34386-3290-4edf-8066-8ea08af209e6')\"\n",
              "                title=\"Suggest charts\"\n",
              "                style=\"display:none;\">\n",
              "\n",
              "<svg xmlns=\"http://www.w3.org/2000/svg\" height=\"24px\"viewBox=\"0 0 24 24\"\n",
              "     width=\"24px\">\n",
              "    <g>\n",
              "        <path d=\"M19 3H5c-1.1 0-2 .9-2 2v14c0 1.1.9 2 2 2h14c1.1 0 2-.9 2-2V5c0-1.1-.9-2-2-2zM9 17H7v-7h2v7zm4 0h-2V7h2v10zm4 0h-2v-4h2v4z\"/>\n",
              "    </g>\n",
              "</svg>\n",
              "      </button>\n",
              "\n",
              "<style>\n",
              "  .colab-df-quickchart {\n",
              "      --bg-color: #E8F0FE;\n",
              "      --fill-color: #1967D2;\n",
              "      --hover-bg-color: #E2EBFA;\n",
              "      --hover-fill-color: #174EA6;\n",
              "      --disabled-fill-color: #AAA;\n",
              "      --disabled-bg-color: #DDD;\n",
              "  }\n",
              "\n",
              "  [theme=dark] .colab-df-quickchart {\n",
              "      --bg-color: #3B4455;\n",
              "      --fill-color: #D2E3FC;\n",
              "      --hover-bg-color: #434B5C;\n",
              "      --hover-fill-color: #FFFFFF;\n",
              "      --disabled-bg-color: #3B4455;\n",
              "      --disabled-fill-color: #666;\n",
              "  }\n",
              "\n",
              "  .colab-df-quickchart {\n",
              "    background-color: var(--bg-color);\n",
              "    border: none;\n",
              "    border-radius: 50%;\n",
              "    cursor: pointer;\n",
              "    display: none;\n",
              "    fill: var(--fill-color);\n",
              "    height: 32px;\n",
              "    padding: 0;\n",
              "    width: 32px;\n",
              "  }\n",
              "\n",
              "  .colab-df-quickchart:hover {\n",
              "    background-color: var(--hover-bg-color);\n",
              "    box-shadow: 0 1px 2px rgba(60, 64, 67, 0.3), 0 1px 3px 1px rgba(60, 64, 67, 0.15);\n",
              "    fill: var(--button-hover-fill-color);\n",
              "  }\n",
              "\n",
              "  .colab-df-quickchart-complete:disabled,\n",
              "  .colab-df-quickchart-complete:disabled:hover {\n",
              "    background-color: var(--disabled-bg-color);\n",
              "    fill: var(--disabled-fill-color);\n",
              "    box-shadow: none;\n",
              "  }\n",
              "\n",
              "  .colab-df-spinner {\n",
              "    border: 2px solid var(--fill-color);\n",
              "    border-color: transparent;\n",
              "    border-bottom-color: var(--fill-color);\n",
              "    animation:\n",
              "      spin 1s steps(1) infinite;\n",
              "  }\n",
              "\n",
              "  @keyframes spin {\n",
              "    0% {\n",
              "      border-color: transparent;\n",
              "      border-bottom-color: var(--fill-color);\n",
              "      border-left-color: var(--fill-color);\n",
              "    }\n",
              "    20% {\n",
              "      border-color: transparent;\n",
              "      border-left-color: var(--fill-color);\n",
              "      border-top-color: var(--fill-color);\n",
              "    }\n",
              "    30% {\n",
              "      border-color: transparent;\n",
              "      border-left-color: var(--fill-color);\n",
              "      border-top-color: var(--fill-color);\n",
              "      border-right-color: var(--fill-color);\n",
              "    }\n",
              "    40% {\n",
              "      border-color: transparent;\n",
              "      border-right-color: var(--fill-color);\n",
              "      border-top-color: var(--fill-color);\n",
              "    }\n",
              "    60% {\n",
              "      border-color: transparent;\n",
              "      border-right-color: var(--fill-color);\n",
              "    }\n",
              "    80% {\n",
              "      border-color: transparent;\n",
              "      border-right-color: var(--fill-color);\n",
              "      border-bottom-color: var(--fill-color);\n",
              "    }\n",
              "    90% {\n",
              "      border-color: transparent;\n",
              "      border-bottom-color: var(--fill-color);\n",
              "    }\n",
              "  }\n",
              "</style>\n",
              "\n",
              "      <script>\n",
              "        async function quickchart(key) {\n",
              "          const quickchartButtonEl =\n",
              "            document.querySelector('#' + key + ' button');\n",
              "          quickchartButtonEl.disabled = true;  // To prevent multiple clicks.\n",
              "          quickchartButtonEl.classList.add('colab-df-spinner');\n",
              "          try {\n",
              "            const charts = await google.colab.kernel.invokeFunction(\n",
              "                'suggestCharts', [key], {});\n",
              "          } catch (error) {\n",
              "            console.error('Error during call to suggestCharts:', error);\n",
              "          }\n",
              "          quickchartButtonEl.classList.remove('colab-df-spinner');\n",
              "          quickchartButtonEl.classList.add('colab-df-quickchart-complete');\n",
              "        }\n",
              "        (() => {\n",
              "          let quickchartButtonEl =\n",
              "            document.querySelector('#df-2cd34386-3290-4edf-8066-8ea08af209e6 button');\n",
              "          quickchartButtonEl.style.display =\n",
              "            google.colab.kernel.accessAllowed ? 'block' : 'none';\n",
              "        })();\n",
              "      </script>\n",
              "    </div>\n",
              "\n",
              "    </div>\n",
              "  </div>\n"
            ],
            "text/plain": [
              "                                               title  \\\n",
              "0                            It's Only the Himalayas   \n",
              "1  Full Moon over Noah’s Ark: An Odyssey to Mount...   \n",
              "2  See America: A Celebration of Our National Par...   \n",
              "3  Vagabonding: An Uncommon Guide to the Art of L...   \n",
              "4                               Under the Tuscan Sun   \n",
              "\n",
              "                                         description category  price_incl_tax  \\\n",
              "0  “Wherever you go, whatever you do, just . . . ...   Travel           45.17   \n",
              "1  Acclaimed travel writer Rick Antonson sets his...   Travel           49.43   \n",
              "2  To coincide with the 2016 centennial anniversa...   Travel           48.87   \n",
              "3  With a new foreword by Tim Ferriss •There’s no...   Travel           36.94   \n",
              "4  A CLASSIC FROM THE BESTSELLING AUTHOR OF UNDER...   Travel           37.33   \n",
              "\n",
              "   price_excl_tax             availability             rating  \\\n",
              "0           45.17  In stock (19 available)    star-rating Two   \n",
              "1           49.43  In stock (15 available)   star-rating Four   \n",
              "2           48.87  In stock (14 available)  star-rating Three   \n",
              "3           36.94   In stock (8 available)    star-rating Two   \n",
              "4           37.33   In stock (7 available)  star-rating Three   \n",
              "\n",
              "   description_length  tax  \n",
              "0                 230  0.0  \n",
              "1                 284  0.0  \n",
              "2                 145  0.0  \n",
              "3                 329  0.0  \n",
              "4                 166  0.0  "
            ]
          },
          "execution_count": 19,
          "metadata": {},
          "output_type": "execute_result"
        }
      ],
      "source": [
        "df.head()"
      ]
    },
    {
      "cell_type": "code",
      "execution_count": null,
      "metadata": {
        "colab": {
          "base_uri": "https://localhost:8080/",
          "height": 145
        },
        "id": "aVcykFWBAwGk",
        "outputId": "294fec7e-1214-49bd-e852-bc5e5adf2ea1"
      },
      "outputs": [
        {
          "data": {
            "text/html": [
              "<div>\n",
              "<style scoped>\n",
              "    .dataframe tbody tr th:only-of-type {\n",
              "        vertical-align: middle;\n",
              "    }\n",
              "\n",
              "    .dataframe tbody tr th {\n",
              "        vertical-align: top;\n",
              "    }\n",
              "\n",
              "    .dataframe thead th {\n",
              "        text-align: right;\n",
              "    }\n",
              "</style>\n",
              "<table border=\"1\" class=\"dataframe\">\n",
              "  <thead>\n",
              "    <tr style=\"text-align: right;\">\n",
              "      <th></th>\n",
              "      <th>count</th>\n",
              "    </tr>\n",
              "    <tr>\n",
              "      <th>tax</th>\n",
              "      <th></th>\n",
              "    </tr>\n",
              "  </thead>\n",
              "  <tbody>\n",
              "    <tr>\n",
              "      <th>0.0</th>\n",
              "      <td>1000</td>\n",
              "    </tr>\n",
              "  </tbody>\n",
              "</table>\n",
              "</div><br><label><b>dtype:</b> int64</label>"
            ],
            "text/plain": [
              "tax\n",
              "0.0    1000\n",
              "Name: count, dtype: int64"
            ]
          },
          "execution_count": 20,
          "metadata": {},
          "output_type": "execute_result"
        }
      ],
      "source": [
        "df[\"tax\"].value_counts()"
      ]
    },
    {
      "cell_type": "markdown",
      "metadata": {
        "id": "AdNm10pvHPo-"
      },
      "source": [
        "Se verifica que los precios sin tax y con tax son el mismo. Por consiguiente, se puede volver una sola columna, llamada price"
      ]
    },
    {
      "cell_type": "code",
      "execution_count": null,
      "metadata": {
        "id": "BG2Ng16bAzMQ"
      },
      "outputs": [],
      "source": [
        "df[\"price\"] = df[\"price_excl_tax\"]\n",
        "df = df.drop(columns=[\"price_excl_tax\",\"price_incl_tax\",\"tax\"])"
      ]
    },
    {
      "cell_type": "code",
      "execution_count": null,
      "metadata": {
        "colab": {
          "base_uri": "https://localhost:8080/"
        },
        "id": "9gim_jg3H5Y9",
        "outputId": "22ca905b-da26-4f32-c1a4-97a9ff19a778"
      },
      "outputs": [
        {
          "name": "stdout",
          "output_type": "stream",
          "text": [
            "<class 'pandas.core.frame.DataFrame'>\n",
            "RangeIndex: 1000 entries, 0 to 999\n",
            "Data columns (total 7 columns):\n",
            " #   Column              Non-Null Count  Dtype  \n",
            "---  ------              --------------  -----  \n",
            " 0   title               1000 non-null   object \n",
            " 1   description         1000 non-null   object \n",
            " 2   category            1000 non-null   object \n",
            " 3   availability        1000 non-null   object \n",
            " 4   rating              1000 non-null   object \n",
            " 5   description_length  1000 non-null   int64  \n",
            " 6   price               1000 non-null   float64\n",
            "dtypes: float64(1), int64(1), object(5)\n",
            "memory usage: 54.8+ KB\n"
          ]
        }
      ],
      "source": [
        "df.info()"
      ]
    },
    {
      "cell_type": "code",
      "execution_count": null,
      "metadata": {
        "id": "Okccb4pFH6md"
      },
      "outputs": [],
      "source": [
        "df[\"availability\"] = df[\"availability\"].str.extract(r'(\\d+)').astype(int)"
      ]
    },
    {
      "cell_type": "code",
      "execution_count": null,
      "metadata": {
        "id": "4rwlow8_Ik_W"
      },
      "outputs": [],
      "source": [
        "rating_dict = {\"One\":1,\"Two\":2,\"Three\":3,\"Four\":4,\"Five\":5}\n",
        "\n",
        "def rating_to_number(rating):\n",
        "  return rating_dict[rating.split(' ')[-1]]\n",
        "\n",
        "df[\"rating\"] = df[\"rating\"].apply(rating_to_number)"
      ]
    },
    {
      "cell_type": "code",
      "execution_count": null,
      "metadata": {
        "colab": {
          "base_uri": "https://localhost:8080/",
          "height": 289
        },
        "id": "oXmM-AQWIy-V",
        "outputId": "e3510695-a977-45f2-bc0c-9294900a0f91"
      },
      "outputs": [
        {
          "data": {
            "application/vnd.google.colaboratory.intrinsic+json": {
              "summary": "{\n  \"name\": \"df\",\n  \"rows\": 1000,\n  \"fields\": [\n    {\n      \"column\": \"title\",\n      \"properties\": {\n        \"dtype\": \"string\",\n        \"num_unique_values\": 999,\n        \"samples\": [\n          \"Counted With the Stars (Out from Egypt #1)\",\n          \"The New Brand You: Your New Image Makes the Sale for You\",\n          \"Please Kill Me: The Uncensored Oral History of Punk\"\n        ],\n        \"semantic_type\": \"\",\n        \"description\": \"\"\n      }\n    },\n    {\n      \"column\": \"description\",\n      \"properties\": {\n        \"dtype\": \"string\",\n        \"num_unique_values\": 999,\n        \"samples\": [\n          \"A Story of Love, Desperation, and Hope During a Great Biblical EpochSold into slavery by her father and forsaken by the man she was supposed to marry, young Egyptian Kiya must serve a mistress who takes pleasure in her humiliation. When terrifying plagues strike Egypt, Kiya is in the middle of it all.To save her older brother and escape the bonds of slavery, Kiya flees wit A Story of Love, Desperation, and Hope During a Great Biblical EpochSold into slavery by her father and forsaken by the man she was supposed to marry, young Egyptian Kiya must serve a mistress who takes pleasure in her humiliation. When terrifying plagues strike Egypt, Kiya is in the middle of it all.To save her older brother and escape the bonds of slavery, Kiya flees with the Hebrews during the Great Exodus. She finds herself utterly dependent on a fearsome God she's only just beginning to learn about, and in love with a man who despises her people. With everything she's ever known swept away, will Kiya turn back toward Egypt or surrender her life and her future to Yahweh? ...more\",\n          \"You want people to recognize you, like you, and trust you, so they buy from you. You may have already branded yourself with this in mind but perhaps you\\u2019re not getting the desired results. Many people think that branding is about cool logos, fancy websites and social media popularity. But this line of thought causes potential successes to fail.So what does work? In The New You want people to recognize you, like you, and trust you, so they buy from you. You may have already branded yourself with this in mind but perhaps you\\u2019re not getting the desired results. Many people think that branding is about cool logos, fancy websites and social media popularity. But this line of thought causes potential successes to fail.So what does work? In The New Brand You, Julie Broad, MBA, bestselling author, popular speaker, and award winning entrepreneur, shares the secrets of creating a trusted brand.You\\u2019ll learn what is critical in reinventing your personal brand, and why you may never have to tweet, pin or post to do it. Did you know that \\u2026?\\u2022 Your brand is first of all about the feelings, thoughts and experiences of your customers and clients.\\u2022 There are at least 42 common communication mistakes that dilute your message, and only two things you have to do to have a brand with big impact.\\u2022 Online, you are who Google says you are \\u2026The New Brand You is your detailed guidebook to successfully recreating your brand and attracting your ideal clients. ...more\",\n          \"A Time Out and Daily News Top Ten Book of the Year upon its initial release, Please Kill Me is the first oral history of the most nihilist of all pop movements. Iggy Pop, Danny Fields, Dee Dee and Joey Ramone, Malcom McLaren, Jim Carroll, and scores of other famous and infamous punk figures lend their voices to this definitive account of that outrageous, explosive era. Fro A Time Out and Daily News Top Ten Book of the Year upon its initial release, Please Kill Me is the first oral history of the most nihilist of all pop movements. Iggy Pop, Danny Fields, Dee Dee and Joey Ramone, Malcom McLaren, Jim Carroll, and scores of other famous and infamous punk figures lend their voices to this definitive account of that outrageous, explosive era. From its origins in the twilight years of Andy Warhol\\u2019s New York reign to its last gasps as eighties corporate rock, the phenomenon known as punk is scrutinized, eulogized, and idealized by the people who were there and who made it happen. ...more\"\n        ],\n        \"semantic_type\": \"\",\n        \"description\": \"\"\n      }\n    },\n    {\n      \"column\": \"category\",\n      \"properties\": {\n        \"dtype\": \"category\",\n        \"num_unique_values\": 50,\n        \"samples\": [\n          \"Default\",\n          \"Self Help\",\n          \"History\"\n        ],\n        \"semantic_type\": \"\",\n        \"description\": \"\"\n      }\n    },\n    {\n      \"column\": \"availability\",\n      \"properties\": {\n        \"dtype\": \"number\",\n        \"std\": 5,\n        \"min\": 1,\n        \"max\": 22,\n        \"num_unique_values\": 21,\n        \"samples\": [\n          19,\n          9,\n          2\n        ],\n        \"semantic_type\": \"\",\n        \"description\": \"\"\n      }\n    },\n    {\n      \"column\": \"rating\",\n      \"properties\": {\n        \"dtype\": \"number\",\n        \"std\": 1,\n        \"min\": 1,\n        \"max\": 5,\n        \"num_unique_values\": 5,\n        \"samples\": [\n          4,\n          5,\n          3\n        ],\n        \"semantic_type\": \"\",\n        \"description\": \"\"\n      }\n    },\n    {\n      \"column\": \"description_length\",\n      \"properties\": {\n        \"dtype\": \"number\",\n        \"std\": 107,\n        \"min\": 0,\n        \"max\": 1390,\n        \"num_unique_values\": 330,\n        \"samples\": [\n          210,\n          339,\n          151\n        ],\n        \"semantic_type\": \"\",\n        \"description\": \"\"\n      }\n    },\n    {\n      \"column\": \"price\",\n      \"properties\": {\n        \"dtype\": \"number\",\n        \"std\": 14.446689669952764,\n        \"min\": 10.0,\n        \"max\": 59.99,\n        \"num_unique_values\": 903,\n        \"samples\": [\n          17.08,\n          52.22,\n          53.13\n        ],\n        \"semantic_type\": \"\",\n        \"description\": \"\"\n      }\n    }\n  ]\n}",
              "type": "dataframe",
              "variable_name": "df"
            },
            "text/html": [
              "\n",
              "  <div id=\"df-54d49848-d368-44e7-8859-cd1cfb844113\" class=\"colab-df-container\">\n",
              "    <div>\n",
              "<style scoped>\n",
              "    .dataframe tbody tr th:only-of-type {\n",
              "        vertical-align: middle;\n",
              "    }\n",
              "\n",
              "    .dataframe tbody tr th {\n",
              "        vertical-align: top;\n",
              "    }\n",
              "\n",
              "    .dataframe thead th {\n",
              "        text-align: right;\n",
              "    }\n",
              "</style>\n",
              "<table border=\"1\" class=\"dataframe\">\n",
              "  <thead>\n",
              "    <tr style=\"text-align: right;\">\n",
              "      <th></th>\n",
              "      <th>title</th>\n",
              "      <th>description</th>\n",
              "      <th>category</th>\n",
              "      <th>availability</th>\n",
              "      <th>rating</th>\n",
              "      <th>description_length</th>\n",
              "      <th>price</th>\n",
              "    </tr>\n",
              "  </thead>\n",
              "  <tbody>\n",
              "    <tr>\n",
              "      <th>0</th>\n",
              "      <td>It's Only the Himalayas</td>\n",
              "      <td>“Wherever you go, whatever you do, just . . . ...</td>\n",
              "      <td>Travel</td>\n",
              "      <td>19</td>\n",
              "      <td>2</td>\n",
              "      <td>230</td>\n",
              "      <td>45.17</td>\n",
              "    </tr>\n",
              "    <tr>\n",
              "      <th>1</th>\n",
              "      <td>Full Moon over Noah’s Ark: An Odyssey to Mount...</td>\n",
              "      <td>Acclaimed travel writer Rick Antonson sets his...</td>\n",
              "      <td>Travel</td>\n",
              "      <td>15</td>\n",
              "      <td>4</td>\n",
              "      <td>284</td>\n",
              "      <td>49.43</td>\n",
              "    </tr>\n",
              "    <tr>\n",
              "      <th>2</th>\n",
              "      <td>See America: A Celebration of Our National Par...</td>\n",
              "      <td>To coincide with the 2016 centennial anniversa...</td>\n",
              "      <td>Travel</td>\n",
              "      <td>14</td>\n",
              "      <td>3</td>\n",
              "      <td>145</td>\n",
              "      <td>48.87</td>\n",
              "    </tr>\n",
              "    <tr>\n",
              "      <th>3</th>\n",
              "      <td>Vagabonding: An Uncommon Guide to the Art of L...</td>\n",
              "      <td>With a new foreword by Tim Ferriss •There’s no...</td>\n",
              "      <td>Travel</td>\n",
              "      <td>8</td>\n",
              "      <td>2</td>\n",
              "      <td>329</td>\n",
              "      <td>36.94</td>\n",
              "    </tr>\n",
              "    <tr>\n",
              "      <th>4</th>\n",
              "      <td>Under the Tuscan Sun</td>\n",
              "      <td>A CLASSIC FROM THE BESTSELLING AUTHOR OF UNDER...</td>\n",
              "      <td>Travel</td>\n",
              "      <td>7</td>\n",
              "      <td>3</td>\n",
              "      <td>166</td>\n",
              "      <td>37.33</td>\n",
              "    </tr>\n",
              "  </tbody>\n",
              "</table>\n",
              "</div>\n",
              "    <div class=\"colab-df-buttons\">\n",
              "\n",
              "  <div class=\"colab-df-container\">\n",
              "    <button class=\"colab-df-convert\" onclick=\"convertToInteractive('df-54d49848-d368-44e7-8859-cd1cfb844113')\"\n",
              "            title=\"Convert this dataframe to an interactive table.\"\n",
              "            style=\"display:none;\">\n",
              "\n",
              "  <svg xmlns=\"http://www.w3.org/2000/svg\" height=\"24px\" viewBox=\"0 -960 960 960\">\n",
              "    <path d=\"M120-120v-720h720v720H120Zm60-500h600v-160H180v160Zm220 220h160v-160H400v160Zm0 220h160v-160H400v160ZM180-400h160v-160H180v160Zm440 0h160v-160H620v160ZM180-180h160v-160H180v160Zm440 0h160v-160H620v160Z\"/>\n",
              "  </svg>\n",
              "    </button>\n",
              "\n",
              "  <style>\n",
              "    .colab-df-container {\n",
              "      display:flex;\n",
              "      gap: 12px;\n",
              "    }\n",
              "\n",
              "    .colab-df-convert {\n",
              "      background-color: #E8F0FE;\n",
              "      border: none;\n",
              "      border-radius: 50%;\n",
              "      cursor: pointer;\n",
              "      display: none;\n",
              "      fill: #1967D2;\n",
              "      height: 32px;\n",
              "      padding: 0 0 0 0;\n",
              "      width: 32px;\n",
              "    }\n",
              "\n",
              "    .colab-df-convert:hover {\n",
              "      background-color: #E2EBFA;\n",
              "      box-shadow: 0px 1px 2px rgba(60, 64, 67, 0.3), 0px 1px 3px 1px rgba(60, 64, 67, 0.15);\n",
              "      fill: #174EA6;\n",
              "    }\n",
              "\n",
              "    .colab-df-buttons div {\n",
              "      margin-bottom: 4px;\n",
              "    }\n",
              "\n",
              "    [theme=dark] .colab-df-convert {\n",
              "      background-color: #3B4455;\n",
              "      fill: #D2E3FC;\n",
              "    }\n",
              "\n",
              "    [theme=dark] .colab-df-convert:hover {\n",
              "      background-color: #434B5C;\n",
              "      box-shadow: 0px 1px 3px 1px rgba(0, 0, 0, 0.15);\n",
              "      filter: drop-shadow(0px 1px 2px rgba(0, 0, 0, 0.3));\n",
              "      fill: #FFFFFF;\n",
              "    }\n",
              "  </style>\n",
              "\n",
              "    <script>\n",
              "      const buttonEl =\n",
              "        document.querySelector('#df-54d49848-d368-44e7-8859-cd1cfb844113 button.colab-df-convert');\n",
              "      buttonEl.style.display =\n",
              "        google.colab.kernel.accessAllowed ? 'block' : 'none';\n",
              "\n",
              "      async function convertToInteractive(key) {\n",
              "        const element = document.querySelector('#df-54d49848-d368-44e7-8859-cd1cfb844113');\n",
              "        const dataTable =\n",
              "          await google.colab.kernel.invokeFunction('convertToInteractive',\n",
              "                                                    [key], {});\n",
              "        if (!dataTable) return;\n",
              "\n",
              "        const docLinkHtml = 'Like what you see? Visit the ' +\n",
              "          '<a target=\"_blank\" href=https://colab.research.google.com/notebooks/data_table.ipynb>data table notebook</a>'\n",
              "          + ' to learn more about interactive tables.';\n",
              "        element.innerHTML = '';\n",
              "        dataTable['output_type'] = 'display_data';\n",
              "        await google.colab.output.renderOutput(dataTable, element);\n",
              "        const docLink = document.createElement('div');\n",
              "        docLink.innerHTML = docLinkHtml;\n",
              "        element.appendChild(docLink);\n",
              "      }\n",
              "    </script>\n",
              "  </div>\n",
              "\n",
              "\n",
              "    <div id=\"df-2956a0f4-0a6a-4f4f-9d6a-e933b356af6f\">\n",
              "      <button class=\"colab-df-quickchart\" onclick=\"quickchart('df-2956a0f4-0a6a-4f4f-9d6a-e933b356af6f')\"\n",
              "                title=\"Suggest charts\"\n",
              "                style=\"display:none;\">\n",
              "\n",
              "<svg xmlns=\"http://www.w3.org/2000/svg\" height=\"24px\"viewBox=\"0 0 24 24\"\n",
              "     width=\"24px\">\n",
              "    <g>\n",
              "        <path d=\"M19 3H5c-1.1 0-2 .9-2 2v14c0 1.1.9 2 2 2h14c1.1 0 2-.9 2-2V5c0-1.1-.9-2-2-2zM9 17H7v-7h2v7zm4 0h-2V7h2v10zm4 0h-2v-4h2v4z\"/>\n",
              "    </g>\n",
              "</svg>\n",
              "      </button>\n",
              "\n",
              "<style>\n",
              "  .colab-df-quickchart {\n",
              "      --bg-color: #E8F0FE;\n",
              "      --fill-color: #1967D2;\n",
              "      --hover-bg-color: #E2EBFA;\n",
              "      --hover-fill-color: #174EA6;\n",
              "      --disabled-fill-color: #AAA;\n",
              "      --disabled-bg-color: #DDD;\n",
              "  }\n",
              "\n",
              "  [theme=dark] .colab-df-quickchart {\n",
              "      --bg-color: #3B4455;\n",
              "      --fill-color: #D2E3FC;\n",
              "      --hover-bg-color: #434B5C;\n",
              "      --hover-fill-color: #FFFFFF;\n",
              "      --disabled-bg-color: #3B4455;\n",
              "      --disabled-fill-color: #666;\n",
              "  }\n",
              "\n",
              "  .colab-df-quickchart {\n",
              "    background-color: var(--bg-color);\n",
              "    border: none;\n",
              "    border-radius: 50%;\n",
              "    cursor: pointer;\n",
              "    display: none;\n",
              "    fill: var(--fill-color);\n",
              "    height: 32px;\n",
              "    padding: 0;\n",
              "    width: 32px;\n",
              "  }\n",
              "\n",
              "  .colab-df-quickchart:hover {\n",
              "    background-color: var(--hover-bg-color);\n",
              "    box-shadow: 0 1px 2px rgba(60, 64, 67, 0.3), 0 1px 3px 1px rgba(60, 64, 67, 0.15);\n",
              "    fill: var(--button-hover-fill-color);\n",
              "  }\n",
              "\n",
              "  .colab-df-quickchart-complete:disabled,\n",
              "  .colab-df-quickchart-complete:disabled:hover {\n",
              "    background-color: var(--disabled-bg-color);\n",
              "    fill: var(--disabled-fill-color);\n",
              "    box-shadow: none;\n",
              "  }\n",
              "\n",
              "  .colab-df-spinner {\n",
              "    border: 2px solid var(--fill-color);\n",
              "    border-color: transparent;\n",
              "    border-bottom-color: var(--fill-color);\n",
              "    animation:\n",
              "      spin 1s steps(1) infinite;\n",
              "  }\n",
              "\n",
              "  @keyframes spin {\n",
              "    0% {\n",
              "      border-color: transparent;\n",
              "      border-bottom-color: var(--fill-color);\n",
              "      border-left-color: var(--fill-color);\n",
              "    }\n",
              "    20% {\n",
              "      border-color: transparent;\n",
              "      border-left-color: var(--fill-color);\n",
              "      border-top-color: var(--fill-color);\n",
              "    }\n",
              "    30% {\n",
              "      border-color: transparent;\n",
              "      border-left-color: var(--fill-color);\n",
              "      border-top-color: var(--fill-color);\n",
              "      border-right-color: var(--fill-color);\n",
              "    }\n",
              "    40% {\n",
              "      border-color: transparent;\n",
              "      border-right-color: var(--fill-color);\n",
              "      border-top-color: var(--fill-color);\n",
              "    }\n",
              "    60% {\n",
              "      border-color: transparent;\n",
              "      border-right-color: var(--fill-color);\n",
              "    }\n",
              "    80% {\n",
              "      border-color: transparent;\n",
              "      border-right-color: var(--fill-color);\n",
              "      border-bottom-color: var(--fill-color);\n",
              "    }\n",
              "    90% {\n",
              "      border-color: transparent;\n",
              "      border-bottom-color: var(--fill-color);\n",
              "    }\n",
              "  }\n",
              "</style>\n",
              "\n",
              "      <script>\n",
              "        async function quickchart(key) {\n",
              "          const quickchartButtonEl =\n",
              "            document.querySelector('#' + key + ' button');\n",
              "          quickchartButtonEl.disabled = true;  // To prevent multiple clicks.\n",
              "          quickchartButtonEl.classList.add('colab-df-spinner');\n",
              "          try {\n",
              "            const charts = await google.colab.kernel.invokeFunction(\n",
              "                'suggestCharts', [key], {});\n",
              "          } catch (error) {\n",
              "            console.error('Error during call to suggestCharts:', error);\n",
              "          }\n",
              "          quickchartButtonEl.classList.remove('colab-df-spinner');\n",
              "          quickchartButtonEl.classList.add('colab-df-quickchart-complete');\n",
              "        }\n",
              "        (() => {\n",
              "          let quickchartButtonEl =\n",
              "            document.querySelector('#df-2956a0f4-0a6a-4f4f-9d6a-e933b356af6f button');\n",
              "          quickchartButtonEl.style.display =\n",
              "            google.colab.kernel.accessAllowed ? 'block' : 'none';\n",
              "        })();\n",
              "      </script>\n",
              "    </div>\n",
              "\n",
              "    </div>\n",
              "  </div>\n"
            ],
            "text/plain": [
              "                                               title  \\\n",
              "0                            It's Only the Himalayas   \n",
              "1  Full Moon over Noah’s Ark: An Odyssey to Mount...   \n",
              "2  See America: A Celebration of Our National Par...   \n",
              "3  Vagabonding: An Uncommon Guide to the Art of L...   \n",
              "4                               Under the Tuscan Sun   \n",
              "\n",
              "                                         description category  availability  \\\n",
              "0  “Wherever you go, whatever you do, just . . . ...   Travel            19   \n",
              "1  Acclaimed travel writer Rick Antonson sets his...   Travel            15   \n",
              "2  To coincide with the 2016 centennial anniversa...   Travel            14   \n",
              "3  With a new foreword by Tim Ferriss •There’s no...   Travel             8   \n",
              "4  A CLASSIC FROM THE BESTSELLING AUTHOR OF UNDER...   Travel             7   \n",
              "\n",
              "   rating  description_length  price  \n",
              "0       2                 230  45.17  \n",
              "1       4                 284  49.43  \n",
              "2       3                 145  48.87  \n",
              "3       2                 329  36.94  \n",
              "4       3                 166  37.33  "
            ]
          },
          "execution_count": 25,
          "metadata": {},
          "output_type": "execute_result"
        }
      ],
      "source": [
        "df.head()"
      ]
    },
    {
      "cell_type": "markdown",
      "metadata": {
        "id": "QgkgPW4RphKY"
      },
      "source": [
        "## Creación de etiqueta de sentimiento"
      ]
    },
    {
      "cell_type": "code",
      "execution_count": null,
      "metadata": {
        "id": "7X5VSVMQJnHs"
      },
      "outputs": [],
      "source": [
        "!pip -q install nltk"
      ]
    },
    {
      "cell_type": "code",
      "execution_count": null,
      "metadata": {
        "colab": {
          "base_uri": "https://localhost:8080/"
        },
        "id": "yHv_sqJDQkaz",
        "outputId": "ff99dfcd-f9bc-4fa5-91e7-72fe177a4986"
      },
      "outputs": [
        {
          "name": "stderr",
          "output_type": "stream",
          "text": [
            "[nltk_data] Downloading package punkt to /root/nltk_data...\n",
            "[nltk_data]   Unzipping tokenizers/punkt.zip.\n",
            "[nltk_data] Downloading package averaged_perceptron_tagger to\n",
            "[nltk_data]     /root/nltk_data...\n",
            "[nltk_data]   Unzipping taggers/averaged_perceptron_tagger.zip.\n",
            "[nltk_data] Downloading package vader_lexicon to /root/nltk_data...\n",
            "[nltk_data] Downloading package punkt_tab to /root/nltk_data...\n",
            "[nltk_data]   Unzipping tokenizers/punkt_tab.zip.\n"
          ]
        }
      ],
      "source": [
        "import nltk\n",
        "nltk.download('punkt'); nltk.download('averaged_perceptron_tagger'); nltk.download('vader_lexicon');nltk.download('punkt_tab')\n",
        "\n",
        "from nltk.tokenize import word_tokenize\n",
        "from nltk.sentiment import SentimentIntensityAnalyzer"
      ]
    },
    {
      "cell_type": "code",
      "execution_count": null,
      "metadata": {
        "id": "Yc0hp2rPWxs_"
      },
      "outputs": [],
      "source": [
        "df[\"title\"] = df[\"title\"].str.replace(r'[^\\w\\s]','',regex=True).apply(lambda x: x.lower())\n",
        "df[\"description\"] = df[\"description\"].str.replace(r'[^\\w\\s]','',regex=True).apply(lambda x: x.lower())"
      ]
    },
    {
      "cell_type": "code",
      "execution_count": null,
      "metadata": {
        "id": "gnq43da5QO-d"
      },
      "outputs": [],
      "source": [
        "# Inicializar analizador\n",
        "sia = SentimentIntensityAnalyzer()\n",
        "\n",
        "# Función para obtener el sentimiento\n",
        "def analyze_sentiment(text):\n",
        "    scores = sia.polarity_scores(text)\n",
        "    return scores['compound']   # valor entre -1 y 1\n",
        "\n",
        "# Crear columna nueva con puntaje\n",
        "df[\"sentiment_score\"] = df[\"description\"].apply(analyze_sentiment)\n",
        "\n",
        "# Clasificar positivo / negativo / neutro\n",
        "df[\"sentiment_label\"] = df[\"sentiment_score\"].apply(\n",
        "    lambda x: \"positive\" if x > 0.05 else (\"negative\" if x < -0.05 else \"neutral\")\n",
        ")\n",
        "\n",
        "df = df.drop(\"sentiment_score\",axis=1)"
      ]
    },
    {
      "cell_type": "code",
      "execution_count": null,
      "metadata": {
        "colab": {
          "base_uri": "https://localhost:8080/",
          "height": 357
        },
        "id": "bj6XaocMIde4",
        "outputId": "2ae62c9b-2ff2-494b-c9f0-f1866a846b35"
      },
      "outputs": [
        {
          "data": {
            "application/vnd.google.colaboratory.intrinsic+json": {
              "summary": "{\n  \"name\": \"df\",\n  \"rows\": 1000,\n  \"fields\": [\n    {\n      \"column\": \"title\",\n      \"properties\": {\n        \"dtype\": \"string\",\n        \"num_unique_values\": 999,\n        \"samples\": [\n          \"counted with the stars out from egypt 1\",\n          \"the new brand you your new image makes the sale for you\",\n          \"please kill me the uncensored oral history of punk\"\n        ],\n        \"semantic_type\": \"\",\n        \"description\": \"\"\n      }\n    },\n    {\n      \"column\": \"description\",\n      \"properties\": {\n        \"dtype\": \"string\",\n        \"num_unique_values\": 999,\n        \"samples\": [\n          \"a story of love desperation and hope during a great biblical epochsold into slavery by her father and forsaken by the man she was supposed to marry young egyptian kiya must serve a mistress who takes pleasure in her humiliation when terrifying plagues strike egypt kiya is in the middle of it allto save her older brother and escape the bonds of slavery kiya flees wit a story of love desperation and hope during a great biblical epochsold into slavery by her father and forsaken by the man she was supposed to marry young egyptian kiya must serve a mistress who takes pleasure in her humiliation when terrifying plagues strike egypt kiya is in the middle of it allto save her older brother and escape the bonds of slavery kiya flees with the hebrews during the great exodus she finds herself utterly dependent on a fearsome god shes only just beginning to learn about and in love with a man who despises her people with everything shes ever known swept away will kiya turn back toward egypt or surrender her life and her future to yahweh more\",\n          \"you want people to recognize you like you and trust you so they buy from you you may have already branded yourself with this in mind but perhaps youre not getting the desired results many people think that branding is about cool logos fancy websites and social media popularity but this line of thought causes potential successes to failso what does work in the new you want people to recognize you like you and trust you so they buy from you you may have already branded yourself with this in mind but perhaps youre not getting the desired results many people think that branding is about cool logos fancy websites and social media popularity but this line of thought causes potential successes to failso what does work in the new brand you julie broad mba bestselling author popular speaker and award winning entrepreneur shares the secrets of creating a trusted brandyoull learn what is critical in reinventing your personal brand and why you may never have to tweet pin or post to do it did you know that  your brand is first of all about the feelings thoughts and experiences of your customers and clients there are at least 42 common communication mistakes that dilute your message and only two things you have to do to have a brand with big impact online you are who google says you are the new brand you is your detailed guidebook to successfully recreating your brand and attracting your ideal clients more\",\n          \"a time out and daily news top ten book of the year upon its initial release please kill me is the first oral history of the most nihilist of all pop movements iggy pop danny fields dee dee and joey ramone malcom mclaren jim carroll and scores of other famous and infamous punk figures lend their voices to this definitive account of that outrageous explosive era fro a time out and daily news top ten book of the year upon its initial release please kill me is the first oral history of the most nihilist of all pop movements iggy pop danny fields dee dee and joey ramone malcom mclaren jim carroll and scores of other famous and infamous punk figures lend their voices to this definitive account of that outrageous explosive era from its origins in the twilight years of andy warhols new york reign to its last gasps as eighties corporate rock the phenomenon known as punk is scrutinized eulogized and idealized by the people who were there and who made it happen more\"\n        ],\n        \"semantic_type\": \"\",\n        \"description\": \"\"\n      }\n    },\n    {\n      \"column\": \"category\",\n      \"properties\": {\n        \"dtype\": \"category\",\n        \"num_unique_values\": 50,\n        \"samples\": [\n          \"Default\",\n          \"Self Help\",\n          \"History\"\n        ],\n        \"semantic_type\": \"\",\n        \"description\": \"\"\n      }\n    },\n    {\n      \"column\": \"availability\",\n      \"properties\": {\n        \"dtype\": \"number\",\n        \"std\": 5,\n        \"min\": 1,\n        \"max\": 22,\n        \"num_unique_values\": 21,\n        \"samples\": [\n          19,\n          9,\n          2\n        ],\n        \"semantic_type\": \"\",\n        \"description\": \"\"\n      }\n    },\n    {\n      \"column\": \"rating\",\n      \"properties\": {\n        \"dtype\": \"number\",\n        \"std\": 1,\n        \"min\": 1,\n        \"max\": 5,\n        \"num_unique_values\": 5,\n        \"samples\": [\n          4,\n          5,\n          3\n        ],\n        \"semantic_type\": \"\",\n        \"description\": \"\"\n      }\n    },\n    {\n      \"column\": \"description_length\",\n      \"properties\": {\n        \"dtype\": \"number\",\n        \"std\": 107,\n        \"min\": 0,\n        \"max\": 1390,\n        \"num_unique_values\": 330,\n        \"samples\": [\n          210,\n          339,\n          151\n        ],\n        \"semantic_type\": \"\",\n        \"description\": \"\"\n      }\n    },\n    {\n      \"column\": \"price\",\n      \"properties\": {\n        \"dtype\": \"number\",\n        \"std\": 14.446689669952764,\n        \"min\": 10.0,\n        \"max\": 59.99,\n        \"num_unique_values\": 903,\n        \"samples\": [\n          17.08,\n          52.22,\n          53.13\n        ],\n        \"semantic_type\": \"\",\n        \"description\": \"\"\n      }\n    },\n    {\n      \"column\": \"sentiment_label\",\n      \"properties\": {\n        \"dtype\": \"category\",\n        \"num_unique_values\": 3,\n        \"samples\": [\n          \"positive\",\n          \"negative\",\n          \"neutral\"\n        ],\n        \"semantic_type\": \"\",\n        \"description\": \"\"\n      }\n    }\n  ]\n}",
              "type": "dataframe",
              "variable_name": "df"
            },
            "text/html": [
              "\n",
              "  <div id=\"df-7c58d957-9193-413b-aeef-8b852aa84328\" class=\"colab-df-container\">\n",
              "    <div>\n",
              "<style scoped>\n",
              "    .dataframe tbody tr th:only-of-type {\n",
              "        vertical-align: middle;\n",
              "    }\n",
              "\n",
              "    .dataframe tbody tr th {\n",
              "        vertical-align: top;\n",
              "    }\n",
              "\n",
              "    .dataframe thead th {\n",
              "        text-align: right;\n",
              "    }\n",
              "</style>\n",
              "<table border=\"1\" class=\"dataframe\">\n",
              "  <thead>\n",
              "    <tr style=\"text-align: right;\">\n",
              "      <th></th>\n",
              "      <th>title</th>\n",
              "      <th>description</th>\n",
              "      <th>category</th>\n",
              "      <th>availability</th>\n",
              "      <th>rating</th>\n",
              "      <th>description_length</th>\n",
              "      <th>price</th>\n",
              "      <th>sentiment_label</th>\n",
              "    </tr>\n",
              "  </thead>\n",
              "  <tbody>\n",
              "    <tr>\n",
              "      <th>0</th>\n",
              "      <td>its only the himalayas</td>\n",
              "      <td>wherever you go whatever you do just    dont d...</td>\n",
              "      <td>Travel</td>\n",
              "      <td>19</td>\n",
              "      <td>2</td>\n",
              "      <td>230</td>\n",
              "      <td>45.17</td>\n",
              "      <td>positive</td>\n",
              "    </tr>\n",
              "    <tr>\n",
              "      <th>1</th>\n",
              "      <td>full moon over noahs ark an odyssey to mount a...</td>\n",
              "      <td>acclaimed travel writer rick antonson sets his...</td>\n",
              "      <td>Travel</td>\n",
              "      <td>15</td>\n",
              "      <td>4</td>\n",
              "      <td>284</td>\n",
              "      <td>49.43</td>\n",
              "      <td>positive</td>\n",
              "    </tr>\n",
              "    <tr>\n",
              "      <th>2</th>\n",
              "      <td>see america a celebration of our national park...</td>\n",
              "      <td>to coincide with the 2016 centennial anniversa...</td>\n",
              "      <td>Travel</td>\n",
              "      <td>14</td>\n",
              "      <td>3</td>\n",
              "      <td>145</td>\n",
              "      <td>48.87</td>\n",
              "      <td>positive</td>\n",
              "    </tr>\n",
              "    <tr>\n",
              "      <th>3</th>\n",
              "      <td>vagabonding an uncommon guide to the art of lo...</td>\n",
              "      <td>with a new foreword by tim ferriss theres noth...</td>\n",
              "      <td>Travel</td>\n",
              "      <td>8</td>\n",
              "      <td>2</td>\n",
              "      <td>329</td>\n",
              "      <td>36.94</td>\n",
              "      <td>positive</td>\n",
              "    </tr>\n",
              "    <tr>\n",
              "      <th>4</th>\n",
              "      <td>under the tuscan sun</td>\n",
              "      <td>a classic from the bestselling author of under...</td>\n",
              "      <td>Travel</td>\n",
              "      <td>7</td>\n",
              "      <td>3</td>\n",
              "      <td>166</td>\n",
              "      <td>37.33</td>\n",
              "      <td>positive</td>\n",
              "    </tr>\n",
              "  </tbody>\n",
              "</table>\n",
              "</div>\n",
              "    <div class=\"colab-df-buttons\">\n",
              "\n",
              "  <div class=\"colab-df-container\">\n",
              "    <button class=\"colab-df-convert\" onclick=\"convertToInteractive('df-7c58d957-9193-413b-aeef-8b852aa84328')\"\n",
              "            title=\"Convert this dataframe to an interactive table.\"\n",
              "            style=\"display:none;\">\n",
              "\n",
              "  <svg xmlns=\"http://www.w3.org/2000/svg\" height=\"24px\" viewBox=\"0 -960 960 960\">\n",
              "    <path d=\"M120-120v-720h720v720H120Zm60-500h600v-160H180v160Zm220 220h160v-160H400v160Zm0 220h160v-160H400v160ZM180-400h160v-160H180v160Zm440 0h160v-160H620v160ZM180-180h160v-160H180v160Zm440 0h160v-160H620v160Z\"/>\n",
              "  </svg>\n",
              "    </button>\n",
              "\n",
              "  <style>\n",
              "    .colab-df-container {\n",
              "      display:flex;\n",
              "      gap: 12px;\n",
              "    }\n",
              "\n",
              "    .colab-df-convert {\n",
              "      background-color: #E8F0FE;\n",
              "      border: none;\n",
              "      border-radius: 50%;\n",
              "      cursor: pointer;\n",
              "      display: none;\n",
              "      fill: #1967D2;\n",
              "      height: 32px;\n",
              "      padding: 0 0 0 0;\n",
              "      width: 32px;\n",
              "    }\n",
              "\n",
              "    .colab-df-convert:hover {\n",
              "      background-color: #E2EBFA;\n",
              "      box-shadow: 0px 1px 2px rgba(60, 64, 67, 0.3), 0px 1px 3px 1px rgba(60, 64, 67, 0.15);\n",
              "      fill: #174EA6;\n",
              "    }\n",
              "\n",
              "    .colab-df-buttons div {\n",
              "      margin-bottom: 4px;\n",
              "    }\n",
              "\n",
              "    [theme=dark] .colab-df-convert {\n",
              "      background-color: #3B4455;\n",
              "      fill: #D2E3FC;\n",
              "    }\n",
              "\n",
              "    [theme=dark] .colab-df-convert:hover {\n",
              "      background-color: #434B5C;\n",
              "      box-shadow: 0px 1px 3px 1px rgba(0, 0, 0, 0.15);\n",
              "      filter: drop-shadow(0px 1px 2px rgba(0, 0, 0, 0.3));\n",
              "      fill: #FFFFFF;\n",
              "    }\n",
              "  </style>\n",
              "\n",
              "    <script>\n",
              "      const buttonEl =\n",
              "        document.querySelector('#df-7c58d957-9193-413b-aeef-8b852aa84328 button.colab-df-convert');\n",
              "      buttonEl.style.display =\n",
              "        google.colab.kernel.accessAllowed ? 'block' : 'none';\n",
              "\n",
              "      async function convertToInteractive(key) {\n",
              "        const element = document.querySelector('#df-7c58d957-9193-413b-aeef-8b852aa84328');\n",
              "        const dataTable =\n",
              "          await google.colab.kernel.invokeFunction('convertToInteractive',\n",
              "                                                    [key], {});\n",
              "        if (!dataTable) return;\n",
              "\n",
              "        const docLinkHtml = 'Like what you see? Visit the ' +\n",
              "          '<a target=\"_blank\" href=https://colab.research.google.com/notebooks/data_table.ipynb>data table notebook</a>'\n",
              "          + ' to learn more about interactive tables.';\n",
              "        element.innerHTML = '';\n",
              "        dataTable['output_type'] = 'display_data';\n",
              "        await google.colab.output.renderOutput(dataTable, element);\n",
              "        const docLink = document.createElement('div');\n",
              "        docLink.innerHTML = docLinkHtml;\n",
              "        element.appendChild(docLink);\n",
              "      }\n",
              "    </script>\n",
              "  </div>\n",
              "\n",
              "\n",
              "    <div id=\"df-c8441233-eee4-4dd3-a600-0614961cc7e0\">\n",
              "      <button class=\"colab-df-quickchart\" onclick=\"quickchart('df-c8441233-eee4-4dd3-a600-0614961cc7e0')\"\n",
              "                title=\"Suggest charts\"\n",
              "                style=\"display:none;\">\n",
              "\n",
              "<svg xmlns=\"http://www.w3.org/2000/svg\" height=\"24px\"viewBox=\"0 0 24 24\"\n",
              "     width=\"24px\">\n",
              "    <g>\n",
              "        <path d=\"M19 3H5c-1.1 0-2 .9-2 2v14c0 1.1.9 2 2 2h14c1.1 0 2-.9 2-2V5c0-1.1-.9-2-2-2zM9 17H7v-7h2v7zm4 0h-2V7h2v10zm4 0h-2v-4h2v4z\"/>\n",
              "    </g>\n",
              "</svg>\n",
              "      </button>\n",
              "\n",
              "<style>\n",
              "  .colab-df-quickchart {\n",
              "      --bg-color: #E8F0FE;\n",
              "      --fill-color: #1967D2;\n",
              "      --hover-bg-color: #E2EBFA;\n",
              "      --hover-fill-color: #174EA6;\n",
              "      --disabled-fill-color: #AAA;\n",
              "      --disabled-bg-color: #DDD;\n",
              "  }\n",
              "\n",
              "  [theme=dark] .colab-df-quickchart {\n",
              "      --bg-color: #3B4455;\n",
              "      --fill-color: #D2E3FC;\n",
              "      --hover-bg-color: #434B5C;\n",
              "      --hover-fill-color: #FFFFFF;\n",
              "      --disabled-bg-color: #3B4455;\n",
              "      --disabled-fill-color: #666;\n",
              "  }\n",
              "\n",
              "  .colab-df-quickchart {\n",
              "    background-color: var(--bg-color);\n",
              "    border: none;\n",
              "    border-radius: 50%;\n",
              "    cursor: pointer;\n",
              "    display: none;\n",
              "    fill: var(--fill-color);\n",
              "    height: 32px;\n",
              "    padding: 0;\n",
              "    width: 32px;\n",
              "  }\n",
              "\n",
              "  .colab-df-quickchart:hover {\n",
              "    background-color: var(--hover-bg-color);\n",
              "    box-shadow: 0 1px 2px rgba(60, 64, 67, 0.3), 0 1px 3px 1px rgba(60, 64, 67, 0.15);\n",
              "    fill: var(--button-hover-fill-color);\n",
              "  }\n",
              "\n",
              "  .colab-df-quickchart-complete:disabled,\n",
              "  .colab-df-quickchart-complete:disabled:hover {\n",
              "    background-color: var(--disabled-bg-color);\n",
              "    fill: var(--disabled-fill-color);\n",
              "    box-shadow: none;\n",
              "  }\n",
              "\n",
              "  .colab-df-spinner {\n",
              "    border: 2px solid var(--fill-color);\n",
              "    border-color: transparent;\n",
              "    border-bottom-color: var(--fill-color);\n",
              "    animation:\n",
              "      spin 1s steps(1) infinite;\n",
              "  }\n",
              "\n",
              "  @keyframes spin {\n",
              "    0% {\n",
              "      border-color: transparent;\n",
              "      border-bottom-color: var(--fill-color);\n",
              "      border-left-color: var(--fill-color);\n",
              "    }\n",
              "    20% {\n",
              "      border-color: transparent;\n",
              "      border-left-color: var(--fill-color);\n",
              "      border-top-color: var(--fill-color);\n",
              "    }\n",
              "    30% {\n",
              "      border-color: transparent;\n",
              "      border-left-color: var(--fill-color);\n",
              "      border-top-color: var(--fill-color);\n",
              "      border-right-color: var(--fill-color);\n",
              "    }\n",
              "    40% {\n",
              "      border-color: transparent;\n",
              "      border-right-color: var(--fill-color);\n",
              "      border-top-color: var(--fill-color);\n",
              "    }\n",
              "    60% {\n",
              "      border-color: transparent;\n",
              "      border-right-color: var(--fill-color);\n",
              "    }\n",
              "    80% {\n",
              "      border-color: transparent;\n",
              "      border-right-color: var(--fill-color);\n",
              "      border-bottom-color: var(--fill-color);\n",
              "    }\n",
              "    90% {\n",
              "      border-color: transparent;\n",
              "      border-bottom-color: var(--fill-color);\n",
              "    }\n",
              "  }\n",
              "</style>\n",
              "\n",
              "      <script>\n",
              "        async function quickchart(key) {\n",
              "          const quickchartButtonEl =\n",
              "            document.querySelector('#' + key + ' button');\n",
              "          quickchartButtonEl.disabled = true;  // To prevent multiple clicks.\n",
              "          quickchartButtonEl.classList.add('colab-df-spinner');\n",
              "          try {\n",
              "            const charts = await google.colab.kernel.invokeFunction(\n",
              "                'suggestCharts', [key], {});\n",
              "          } catch (error) {\n",
              "            console.error('Error during call to suggestCharts:', error);\n",
              "          }\n",
              "          quickchartButtonEl.classList.remove('colab-df-spinner');\n",
              "          quickchartButtonEl.classList.add('colab-df-quickchart-complete');\n",
              "        }\n",
              "        (() => {\n",
              "          let quickchartButtonEl =\n",
              "            document.querySelector('#df-c8441233-eee4-4dd3-a600-0614961cc7e0 button');\n",
              "          quickchartButtonEl.style.display =\n",
              "            google.colab.kernel.accessAllowed ? 'block' : 'none';\n",
              "        })();\n",
              "      </script>\n",
              "    </div>\n",
              "\n",
              "    </div>\n",
              "  </div>\n"
            ],
            "text/plain": [
              "                                               title  \\\n",
              "0                             its only the himalayas   \n",
              "1  full moon over noahs ark an odyssey to mount a...   \n",
              "2  see america a celebration of our national park...   \n",
              "3  vagabonding an uncommon guide to the art of lo...   \n",
              "4                               under the tuscan sun   \n",
              "\n",
              "                                         description category  availability  \\\n",
              "0  wherever you go whatever you do just    dont d...   Travel            19   \n",
              "1  acclaimed travel writer rick antonson sets his...   Travel            15   \n",
              "2  to coincide with the 2016 centennial anniversa...   Travel            14   \n",
              "3  with a new foreword by tim ferriss theres noth...   Travel             8   \n",
              "4  a classic from the bestselling author of under...   Travel             7   \n",
              "\n",
              "   rating  description_length  price sentiment_label  \n",
              "0       2                 230  45.17        positive  \n",
              "1       4                 284  49.43        positive  \n",
              "2       3                 145  48.87        positive  \n",
              "3       2                 329  36.94        positive  \n",
              "4       3                 166  37.33        positive  "
            ]
          },
          "execution_count": 30,
          "metadata": {},
          "output_type": "execute_result"
        }
      ],
      "source": [
        "df.head()"
      ]
    },
    {
      "cell_type": "code",
      "execution_count": null,
      "metadata": {
        "id": "TNg6wXneAEKX"
      },
      "outputs": [],
      "source": [
        "df[\"description_length\"] = df[\"description\"].apply(lambda x: len(x.split()))"
      ]
    },
    {
      "cell_type": "markdown",
      "metadata": {
        "id": "3s1RwuS9_4r6"
      },
      "source": [
        "## Manejo de outliers"
      ]
    },
    {
      "cell_type": "code",
      "execution_count": null,
      "metadata": {
        "colab": {
          "base_uri": "https://localhost:8080/",
          "height": 428
        },
        "id": "HWTsszaY_y-4",
        "outputId": "614d5410-218a-47d0-b295-b7b75796588a"
      },
      "outputs": [
        {
          "data": {
            "text/plain": [
              "<Axes: ylabel='price'>"
            ]
          },
          "execution_count": 32,
          "metadata": {},
          "output_type": "execute_result"
        },
        {
          "data": {
            "image/png": "[encoded data removed]",
            "text/plain": [
              "<Figure size 640x480 with 1 Axes>"
            ]
          },
          "metadata": {},
          "output_type": "display_data"
        }
      ],
      "source": [
        "sns.boxplot(df,y=\"price\")"
      ]
    },
    {
      "cell_type": "code",
      "execution_count": null,
      "metadata": {
        "colab": {
          "base_uri": "https://localhost:8080/",
          "height": 428
        },
        "id": "YB9BQu9j_9bc",
        "outputId": "0214834f-663f-4a32-ab45-176d9961fb7f"
      },
      "outputs": [
        {
          "data": {
            "text/plain": [
              "<Axes: ylabel='description_length'>"
            ]
          },
          "execution_count": 33,
          "metadata": {},
          "output_type": "execute_result"
        },
        {
          "data": {
            "image/png": "[encoded data removed]",
            "text/plain": [
              "<Figure size 640x480 with 1 Axes>"
            ]
          },
          "metadata": {},
          "output_type": "display_data"
        }
      ],
      "source": [
        "sns.boxplot(df,y=\"description_length\")"
      ]
    },
    {
      "cell_type": "code",
      "execution_count": null,
      "metadata": {
        "id": "nc7EcOsBAmME"
      },
      "outputs": [],
      "source": [
        "Q1 = df[\"description_length\"].quantile(0.25)\n",
        "Q3 = df[\"description_length\"].quantile(0.75)\n",
        "IQR = Q3 - Q1\n",
        "\n",
        "lower_bound = Q1 - 1.5 * IQR\n",
        "upper_bound = Q3 + 1.5 * IQR\n",
        "\n",
        "df[\"description_length\"] = df[\"description_length\"].clip(lower=lower_bound,upper=upper_bound)"
      ]
    },
    {
      "cell_type": "code",
      "execution_count": null,
      "metadata": {
        "colab": {
          "base_uri": "https://localhost:8080/",
          "height": 432
        },
        "id": "s10PO5ZbBBO0",
        "outputId": "863fc96b-5b52-45be-e6c0-636458110184"
      },
      "outputs": [
        {
          "data": {
            "text/plain": [
              "<Axes: ylabel='description_length'>"
            ]
          },
          "execution_count": 35,
          "metadata": {},
          "output_type": "execute_result"
        },
        {
          "data": {
            "image/png": "[encoded data removed]",
            "text/plain": [
              "<Figure size 640x480 with 1 Axes>"
            ]
          },
          "metadata": {},
          "output_type": "display_data"
        }
      ],
      "source": [
        "sns.boxplot(df,y=\"description_length\")"
      ]
    },
    {
      "cell_type": "code",
      "execution_count": null,
      "metadata": {
        "colab": {
          "base_uri": "https://localhost:8080/",
          "height": 431
        },
        "id": "YQW7qFanAja3",
        "outputId": "f3d1699b-b9bf-4691-bc74-bf90cffd553a"
      },
      "outputs": [
        {
          "data": {
            "text/plain": [
              "<Axes: ylabel='availability'>"
            ]
          },
          "execution_count": 36,
          "metadata": {},
          "output_type": "execute_result"
        },
        {
          "data": {
            "image/png": "[encoded data removed]",
            "text/plain": [
              "<Figure size 640x480 with 1 Axes>"
            ]
          },
          "metadata": {},
          "output_type": "display_data"
        }
      ],
      "source": [
        "sns.boxplot(df,y=\"availability\")"
      ]
    },
    {
      "cell_type": "code",
      "execution_count": null,
      "metadata": {
        "colab": {
          "base_uri": "https://localhost:8080/",
          "height": 17
        },
        "id": "pxREfL5uR505",
        "outputId": "3d65da8d-91c1-4c08-8439-402b78b67568"
      },
      "outputs": [
        {
          "data": {
            "application/javascript": "\n    async function download(id, filename, size) {\n      if (!google.colab.kernel.accessAllowed) {\n        return;\n      }\n      const div = document.createElement('div');\n      const label = document.createElement('label');\n      label.textContent = `Downloading \"${filename}\": `;\n      div.appendChild(label);\n      const progress = document.createElement('progress');\n      progress.max = size;\n      div.appendChild(progress);\n      document.body.appendChild(div);\n\n      const buffers = [];\n      let downloaded = 0;\n\n      const channel = await google.colab.kernel.comms.open(id);\n      // Send a message to notify the kernel that we're ready.\n      channel.send({})\n\n      for await (const message of channel.messages) {\n        // Send a message to notify the kernel that we're ready.\n        channel.send({})\n        if (message.buffers) {\n          for (const buffer of message.buffers) {\n            buffers.push(buffer);\n            downloaded += buffer.byteLength;\n            progress.value = downloaded;\n          }\n        }\n      }\n      const blob = new Blob(buffers, {type: 'application/binary'});\n      const a = document.createElement('a');\n      a.href = window.URL.createObjectURL(blob);\n      a.download = filename;\n      div.appendChild(a);\n      a.click();\n      div.remove();\n    }\n  ",
            "text/plain": [
              "<IPython.core.display.Javascript object>"
            ]
          },
          "metadata": {},
          "output_type": "display_data"
        },
        {
          "data": {
            "application/javascript": "download(\"download_b7723904-8125-4923-992d-6431d8ccdb37\", \"books_clean.csv\", 1461967)",
            "text/plain": [
              "<IPython.core.display.Javascript object>"
            ]
          },
          "metadata": {},
          "output_type": "display_data"
        }
      ],
      "source": [
        "df.to_csv(\"books_clean.csv\", index=False)\n",
        "files.download('books_clean.csv')"
      ]
    },
    {
      "cell_type": "code",
      "execution_count": null,
      "metadata": {
        "id": "x5potXGQTFPE"
      },
      "outputs": [],
      "source": []
    }
  ],
  "metadata": {
    "colab": {
      "provenance": []
    },
    "kernelspec": {
      "display_name": "Python 3",
      "name": "python3"
    },
    "language_info": {
      "name": "python"
    }
  },
  "nbformat": 4,
  "nbformat_minor": 0
}
